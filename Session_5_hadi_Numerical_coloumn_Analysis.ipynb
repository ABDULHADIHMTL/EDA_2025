{
 "cells": [
  {
   "cell_type": "code",
   "execution_count": null,
   "id": "95768590-fc24-4537-ba1d-8e018556f14e",
   "metadata": {},
   "outputs": [],
   "source": [
    "# import packages\n",
    "# Read the data\n",
    "# convert cat and numerical columns\n",
    "# read prevailing_wage data\n",
    "# wage_data=visa_df[prevailing_wage]\n",
    "# len\n",
    "# min\n",
    "# max\n",
    "# mean\n",
    "# meadian\n",
    "# 25p\n",
    "# 50p\n",
    "# 75p\n",
    "\n",
    "# everything is possible with numpy\n",
    "\n"
   ]
  },
  {
   "cell_type": "code",
   "execution_count": null,
   "id": "d4b483af-8926-4ce3-9b04-4e9d45482b63",
   "metadata": {},
   "outputs": [],
   "source": [
    "# import packages\n",
    "# Read the data\n",
    "# convert cat and numerical columns\n",
    "# read prevailing_wage data\n",
    "# wage_data=visa_df[prevailing_wage]\n",
    "# count=len(wage_data)\n",
    "# min=np.min\n",
    "# max=np.max\n",
    "# mean=np.mean\n",
    "# meadian=np.median\n",
    "# 25p=np.percentile()\n",
    "# 50p=np.percentile()\n",
    "# 75p=np.percentile()\n",
    "\n",
    "# everything is possible with numpy"
   ]
  },
  {
   "cell_type": "code",
   "execution_count": 1,
   "id": "a9731240-1d9d-4c70-9b89-69fa296882b1",
   "metadata": {},
   "outputs": [],
   "source": [
    "import pandas as pd\n",
    "import numpy as np\n",
    "import matplotlib.pyplot as plt\n",
    "import seaborn as sns\n",
    "\n",
    "visa_df=pd.read_csv('visadataset.csv')\n",
    "\n",
    "cat=visa_df.select_dtypes(include='object').columns\n",
    "num=visa_df.select_dtypes(exclude='object').columns"
   ]
  },
  {
   "cell_type": "code",
   "execution_count": 3,
   "id": "b83cf0c9-821b-4d65-8186-5024e7ca4cb5",
   "metadata": {},
   "outputs": [
    {
     "data": {
      "text/plain": [
       "0           592.2029\n",
       "1         83425.6500\n",
       "2        122996.8600\n",
       "3         83434.0300\n",
       "4        149907.3900\n",
       "            ...     \n",
       "25475     77092.5700\n",
       "25476    279174.7900\n",
       "25477    146298.8500\n",
       "25478     86154.7700\n",
       "25479     70876.9100\n",
       "Name: prevailing_wage, Length: 25480, dtype: float64"
      ]
     },
     "execution_count": 3,
     "metadata": {},
     "output_type": "execute_result"
    }
   ],
   "source": [
    "wage_data=visa_df['prevailing_wage']\n",
    "wage_data"
   ]
  },
  {
   "cell_type": "code",
   "execution_count": null,
   "id": "4c710b4e-191d-40b3-824a-02aa759d50dc",
   "metadata": {},
   "outputs": [],
   "source": []
  },
  {
   "cell_type": "code",
   "execution_count": 5,
   "id": "e4d6d749-13f5-46dd-91be-f19cba019593",
   "metadata": {},
   "outputs": [],
   "source": [
    "# count=len(wage_data)\n",
    "count=len(wage_data)\n",
    "# min=np.min\n",
    "# max=np.max\n",
    "# mean=np.mean\n",
    "# meadian=np.median\n",
    "# 25p=np.percentile()\n",
    "# 50p=np.percentile()\n",
    "# 75p=np.percentile()"
   ]
  },
  {
   "cell_type": "code",
   "execution_count": 8,
   "id": "9c22e756-5ef7-45e0-ad0b-66356c52a67a",
   "metadata": {},
   "outputs": [
    {
     "data": {
      "text/plain": [
       "25480"
      ]
     },
     "execution_count": 8,
     "metadata": {},
     "output_type": "execute_result"
    }
   ],
   "source": [
    "count=len(wage_data)\n",
    "count"
   ]
  },
  {
   "cell_type": "code",
   "execution_count": 9,
   "id": "f9c07db6-7231-455c-8a97-3279b1e493ee",
   "metadata": {},
   "outputs": [
    {
     "data": {
      "text/plain": [
       "np.float64(2.1367)"
      ]
     },
     "execution_count": 9,
     "metadata": {},
     "output_type": "execute_result"
    }
   ],
   "source": [
    "Min=np.min(wage_data)\n",
    "Min"
   ]
  },
  {
   "cell_type": "code",
   "execution_count": 11,
   "id": "bdc65d8d-e1e4-43cf-aebf-535a890122c8",
   "metadata": {},
   "outputs": [
    {
     "data": {
      "text/plain": [
       "np.float64(2.1367)"
      ]
     },
     "execution_count": 11,
     "metadata": {},
     "output_type": "execute_result"
    }
   ],
   "source": [
    "# second method also\n",
    "Min=wage_data.min()\n",
    "Min"
   ]
  },
  {
   "cell_type": "code",
   "execution_count": 10,
   "id": "8da76d79-be13-4e86-a5f7-51b09a28f77d",
   "metadata": {},
   "outputs": [
    {
     "data": {
      "text/plain": [
       "np.float64(319210.27)"
      ]
     },
     "execution_count": 10,
     "metadata": {},
     "output_type": "execute_result"
    }
   ],
   "source": [
    "Max=np.max(wage_data)\n",
    "Max"
   ]
  },
  {
   "cell_type": "code",
   "execution_count": 12,
   "id": "6eb27c46-1aeb-4b76-8de7-3e123aec0231",
   "metadata": {},
   "outputs": [
    {
     "data": {
      "text/plain": [
       "np.float64(319210.27)"
      ]
     },
     "execution_count": 12,
     "metadata": {},
     "output_type": "execute_result"
    }
   ],
   "source": [
    "Max=wage_data.max()\n",
    "Max"
   ]
  },
  {
   "cell_type": "code",
   "execution_count": 13,
   "id": "987b60f8-3cb0-4efc-be2b-c250d178d21b",
   "metadata": {},
   "outputs": [
    {
     "data": {
      "text/plain": [
       "np.float64(74455.81459209183)"
      ]
     },
     "execution_count": 13,
     "metadata": {},
     "output_type": "execute_result"
    }
   ],
   "source": [
    "Mean=np.mean(wage_data)\n",
    "Mean"
   ]
  },
  {
   "cell_type": "code",
   "execution_count": 14,
   "id": "39b21fb6-944e-41fd-92e3-d0e7573c98b7",
   "metadata": {},
   "outputs": [
    {
     "data": {
      "text/plain": [
       "np.float64(74455.81459209183)"
      ]
     },
     "execution_count": 14,
     "metadata": {},
     "output_type": "execute_result"
    }
   ],
   "source": [
    "Mean=wage_data.mean()\n",
    "Mean"
   ]
  },
  {
   "cell_type": "code",
   "execution_count": 17,
   "id": "78272b76-b8a6-40e1-9feb-d8b0512bcd40",
   "metadata": {},
   "outputs": [
    {
     "name": "stdout",
     "output_type": "stream",
     "text": [
      "25480\n",
      "2.1367\n",
      "319210.27\n",
      "74455.81459209183\n",
      "70308.20999999999\n"
     ]
    }
   ],
   "source": [
    "count=len(wage_data)\n",
    "print(count)\n",
    "Min=np.min(wage_data)\n",
    "print(Min)\n",
    "Max=np.max(wage_data)\n",
    "print(Max)\n",
    "Mean=np.mean(wage_data)\n",
    "print(Mean)\n",
    "Median=np.median(wage_data)\n",
    "print(Median)\n"
   ]
  },
  {
   "cell_type": "code",
   "execution_count": null,
   "id": "0fa08d74-485e-4223-87ed-a9b12dc42561",
   "metadata": {},
   "outputs": [],
   "source": []
  },
  {
   "cell_type": "code",
   "execution_count": null,
   "id": "5ed61f48-c043-495f-9ce6-28651e115b3a",
   "metadata": {},
   "outputs": [],
   "source": [
    "# make round of \n",
    "count=len(wage_data)\n",
    "Min=round(np.min(wage_data),2)\n",
    "Max=round(np.max(wage_data),2)\n",
    "Mean=round(np.mean(wage_data),)\n",
    "Median=round(np.median(wage_data),2)"
   ]
  },
  {
   "cell_type": "code",
   "execution_count": null,
   "id": "65b1f8d2-39cb-478f-b764-b5667acde2ed",
   "metadata": {},
   "outputs": [],
   "source": []
  },
  {
   "cell_type": "code",
   "execution_count": 19,
   "id": "f4e4a035-9513-4d41-b951-b0825922307d",
   "metadata": {},
   "outputs": [
    {
     "name": "stdout",
     "output_type": "stream",
     "text": [
      "25480\n",
      "2.14\n",
      "319210.27\n",
      "74456\n",
      "70308.21\n"
     ]
    }
   ],
   "source": [
    "# make round of \n",
    "count=len(wage_data)\n",
    "print(count)\n",
    "Min=round(np.min(wage_data),2)\n",
    "print(Min)\n",
    "Max=round(np.max(wage_data),2)\n",
    "print(Max)\n",
    "Mean=round(np.mean(wage_data),)\n",
    "print(Mean)\n",
    "Median=round(np.median(wage_data),2)\n",
    "print(Median)"
   ]
  },
  {
   "cell_type": "code",
   "execution_count": null,
   "id": "5dfe0a16-6b84-47ef-bd27-521e1e31ab69",
   "metadata": {},
   "outputs": [],
   "source": [
    "np.percentile()\n",
    "np.quantile()"
   ]
  },
  {
   "cell_type": "code",
   "execution_count": null,
   "id": "0abd51d6-44ce-4321-b3f1-c7c5a0c9ab49",
   "metadata": {},
   "outputs": [],
   "source": [
    "np.percentile(wage_data,25)\n",
    "np.quantile(wage_data,0.25)"
   ]
  },
  {
   "cell_type": "code",
   "execution_count": 20,
   "id": "57009547-bfda-43bf-8e56-e0209c4f3c76",
   "metadata": {},
   "outputs": [
    {
     "name": "stdout",
     "output_type": "stream",
     "text": [
      "34015.479999999996\n",
      "34015.479999999996\n"
     ]
    }
   ],
   "source": [
    "print(np.percentile(wage_data,25))\n",
    "print(np.quantile(wage_data,0.25))"
   ]
  },
  {
   "cell_type": "code",
   "execution_count": null,
   "id": "53f5537f-4c37-478a-b472-5b2b5e8d31b9",
   "metadata": {},
   "outputs": [],
   "source": []
  },
  {
   "cell_type": "code",
   "execution_count": null,
   "id": "2ee5af2d-a518-4a7c-80b4-2eac2c8ddbc4",
   "metadata": {},
   "outputs": [],
   "source": [
    "# professor story"
   ]
  },
  {
   "cell_type": "code",
   "execution_count": 21,
   "id": "620e6398-1885-4fdd-b847-17e186d2e6a2",
   "metadata": {},
   "outputs": [
    {
     "ename": "ValueError",
     "evalue": "Quantiles must be in the range [0, 1]",
     "output_type": "error",
     "traceback": [
      "\u001b[1;31m---------------------------------------------------------------------------\u001b[0m",
      "\u001b[1;31mValueError\u001b[0m                                Traceback (most recent call last)",
      "Cell \u001b[1;32mIn[21], line 1\u001b[0m\n\u001b[1;32m----> 1\u001b[0m \u001b[43mnp\u001b[49m\u001b[38;5;241;43m.\u001b[39;49m\u001b[43mquantile\u001b[49m\u001b[43m(\u001b[49m\u001b[43mwage_data\u001b[49m\u001b[43m,\u001b[49m\u001b[38;5;241;43m25\u001b[39;49m\u001b[43m)\u001b[49m\n",
      "File \u001b[1;32m~\\AppData\\Roaming\\Python\\Python313\\site-packages\\numpy\\lib\\_function_base_impl.py:4491\u001b[0m, in \u001b[0;36mquantile\u001b[1;34m(a, q, axis, out, overwrite_input, method, keepdims, weights, interpolation)\u001b[0m\n\u001b[0;32m   4488\u001b[0m     q \u001b[38;5;241m=\u001b[39m np\u001b[38;5;241m.\u001b[39masanyarray(q)\n\u001b[0;32m   4490\u001b[0m \u001b[38;5;28;01mif\u001b[39;00m \u001b[38;5;129;01mnot\u001b[39;00m _quantile_is_valid(q):\n\u001b[1;32m-> 4491\u001b[0m     \u001b[38;5;28;01mraise\u001b[39;00m \u001b[38;5;167;01mValueError\u001b[39;00m(\u001b[38;5;124m\"\u001b[39m\u001b[38;5;124mQuantiles must be in the range [0, 1]\u001b[39m\u001b[38;5;124m\"\u001b[39m)\n\u001b[0;32m   4493\u001b[0m \u001b[38;5;28;01mif\u001b[39;00m weights \u001b[38;5;129;01mis\u001b[39;00m \u001b[38;5;129;01mnot\u001b[39;00m \u001b[38;5;28;01mNone\u001b[39;00m:\n\u001b[0;32m   4494\u001b[0m     \u001b[38;5;28;01mif\u001b[39;00m method \u001b[38;5;241m!=\u001b[39m \u001b[38;5;124m\"\u001b[39m\u001b[38;5;124minverted_cdf\u001b[39m\u001b[38;5;124m\"\u001b[39m:\n",
      "\u001b[1;31mValueError\u001b[0m: Quantiles must be in the range [0, 1]"
     ]
    }
   ],
   "source": [
    "np.quantile(wage_data,25)"
   ]
  },
  {
   "cell_type": "code",
   "execution_count": null,
   "id": "f7350f8a-26d0-48dc-9d7d-6a8fcb2b2ed3",
   "metadata": {},
   "outputs": [],
   "source": []
  },
  {
   "cell_type": "code",
   "execution_count": 22,
   "id": "f5d8397c-c493-4e40-b797-5aac3f443547",
   "metadata": {},
   "outputs": [
    {
     "data": {
      "text/plain": [
       "np.float64(34015.479999999996)"
      ]
     },
     "execution_count": 22,
     "metadata": {},
     "output_type": "execute_result"
    }
   ],
   "source": [
    "np.quantile(wage_data,0.25)"
   ]
  },
  {
   "cell_type": "code",
   "execution_count": null,
   "id": "1e1e21c9-9600-4194-8536-f8460bdb1dde",
   "metadata": {},
   "outputs": [],
   "source": []
  },
  {
   "cell_type": "code",
   "execution_count": null,
   "id": "fb4f8a29-5f17-4d2f-a744-25cc01ddd579",
   "metadata": {},
   "outputs": [],
   "source": [
    "count=len(wage_data)\n",
    "Min=round(np.min(wage_data),2)\n",
    "Max=round(np.max(wage_data),2)\n",
    "Mean=round(np.mean(wage_data),)\n",
    "Median=round(np.median(wage_data),2)\n",
    "p_25=round(np.percentile(wage_data,25),2)\n",
    "p_50=round(np.percentile(wage_data,50),2)\n",
    "p_75=round(np.percentile(wage_data,75),2)\n",
    "\n"
   ]
  },
  {
   "cell_type": "code",
   "execution_count": null,
   "id": "6841ecf4-92de-4209-a2eb-80193a2fc62e",
   "metadata": {},
   "outputs": [],
   "source": [
    "# need to put in order "
   ]
  },
  {
   "cell_type": "code",
   "execution_count": null,
   "id": "f0cdf8ac-498a-40a9-af25-52ea9250126d",
   "metadata": {},
   "outputs": [],
   "source": [
    "count=len(wage_data)\n",
    "Min=round(np.min(wage_data),2)\n",
    "p_25=round(np.percentile(wage_data,25),2)\n",
    "Mean=round(np.mean(wage_data),2)\n",
    "Median=round(np.median(wage_data),2)\n",
    "p_50=round(np.percentile(wage_data,50),2)\n",
    "p_75=round(np.percentile(wage_data,75),2)\n",
    "Max=round(np.max(wage_data),2)\n",
    "\n",
    "# keep all values in a list\n",
    "# create a list index=['count','min', '25p', and so on ]\n"
   ]
  },
  {
   "cell_type": "code",
   "execution_count": null,
   "id": "54a31c39-b440-4fac-8097-b89af89ed344",
   "metadata": {},
   "outputs": [],
   "source": []
  },
  {
   "cell_type": "code",
   "execution_count": 23,
   "id": "11efe9ba-db88-4f30-9be9-64e0271d46b9",
   "metadata": {},
   "outputs": [
    {
     "data": {
      "text/html": [
       "<div>\n",
       "<style scoped>\n",
       "    .dataframe tbody tr th:only-of-type {\n",
       "        vertical-align: middle;\n",
       "    }\n",
       "\n",
       "    .dataframe tbody tr th {\n",
       "        vertical-align: top;\n",
       "    }\n",
       "\n",
       "    .dataframe thead th {\n",
       "        text-align: right;\n",
       "    }\n",
       "</style>\n",
       "<table border=\"1\" class=\"dataframe\">\n",
       "  <thead>\n",
       "    <tr style=\"text-align: right;\">\n",
       "      <th></th>\n",
       "      <th>prevailing_wage</th>\n",
       "    </tr>\n",
       "  </thead>\n",
       "  <tbody>\n",
       "    <tr>\n",
       "      <th>count</th>\n",
       "      <td>25480.00</td>\n",
       "    </tr>\n",
       "    <tr>\n",
       "      <th>Min</th>\n",
       "      <td>2.14</td>\n",
       "    </tr>\n",
       "    <tr>\n",
       "      <th>p_25</th>\n",
       "      <td>34015.48</td>\n",
       "    </tr>\n",
       "    <tr>\n",
       "      <th>Mean</th>\n",
       "      <td>74455.81</td>\n",
       "    </tr>\n",
       "    <tr>\n",
       "      <th>Median</th>\n",
       "      <td>70308.21</td>\n",
       "    </tr>\n",
       "    <tr>\n",
       "      <th>p_50</th>\n",
       "      <td>70308.21</td>\n",
       "    </tr>\n",
       "    <tr>\n",
       "      <th>p_75</th>\n",
       "      <td>107735.51</td>\n",
       "    </tr>\n",
       "    <tr>\n",
       "      <th>Max</th>\n",
       "      <td>319210.27</td>\n",
       "    </tr>\n",
       "  </tbody>\n",
       "</table>\n",
       "</div>"
      ],
      "text/plain": [
       "        prevailing_wage\n",
       "count          25480.00\n",
       "Min                2.14\n",
       "p_25           34015.48\n",
       "Mean           74455.81\n",
       "Median         70308.21\n",
       "p_50           70308.21\n",
       "p_75          107735.51\n",
       "Max           319210.27"
      ]
     },
     "execution_count": 23,
     "metadata": {},
     "output_type": "execute_result"
    }
   ],
   "source": [
    "count=len(wage_data)\n",
    "Min=round(np.min(wage_data),2)\n",
    "p_25=round(np.percentile(wage_data,25),2)\n",
    "Mean=round(np.mean(wage_data),2)\n",
    "Median=round(np.median(wage_data),2)\n",
    "p_50=round(np.percentile(wage_data,50),2)\n",
    "p_75=round(np.percentile(wage_data,75),2)\n",
    "Max=round(np.max(wage_data),2)\n",
    "values=[count,Min,p_25,Mean,Median,p_50,p_75,Max]\n",
    "ids=['count','Min','p_25','Mean','Median','p_50','p_75','Max']\n",
    "pd.DataFrame(values,index=ids,columns=['prevailing_wage'])\n"
   ]
  },
  {
   "cell_type": "code",
   "execution_count": null,
   "id": "7f868eb3-903e-4ea9-837b-d210d5c67ff5",
   "metadata": {},
   "outputs": [],
   "source": []
  },
  {
   "cell_type": "code",
   "execution_count": null,
   "id": "1e1dcb0e-b940-4fbe-844f-49ccf62c6162",
   "metadata": {},
   "outputs": [],
   "source": [
    "# what is common and what is changing ===> nothing is common ==> need to add wage_data=\n",
    "wage_data=visa_df['prevailing_wage']  # give generic -- change see below \n",
    "count=len(wage_data)\n",
    "Min=round(np.min(wage_data),2)\n",
    "p_25=round(np.percentile(wage_data,25),2)\n",
    "Mean=round(np.mean(wage_data),2)\n",
    "Median=round(np.median(wage_data),2)\n",
    "p_50=round(np.percentile(wage_data,50),2)\n",
    "p_75=round(np.percentile(wage_data,75),2)\n",
    "Max=round(np.max(wage_data),2)\n",
    "values=[count,Min,p_25,Mean,Median,p_50,p_75,Max]\n",
    "ids=['count','Min','p_25','Mean','Median','p_50','p_75','Max']\n",
    "pd.DataFrame(values,index=ids,columns=['prevailing_wage'])\n"
   ]
  },
  {
   "cell_type": "code",
   "execution_count": null,
   "id": "e5fbeac9-9641-4803-a9fe-547f37c0fd88",
   "metadata": {},
   "outputs": [],
   "source": []
  },
  {
   "cell_type": "code",
   "execution_count": null,
   "id": "79bab42a-1d3b-49bb-9f50-343433d27c74",
   "metadata": {},
   "outputs": [],
   "source": [
    "# what is common and what is changing ===> nothing is common ==> need to add wage_data=\n",
    "data=visa_df[i]  # give generic -- change see  wage_data becomes data\n",
    "count=len(data)\n",
    "Min=round(np.min(data),2)\n",
    "p_25=round(np.percentile(data,25),2)\n",
    "Mean=round(np.mean(data),2)\n",
    "Median=round(np.median(data),2)\n",
    "p_50=round(np.percentile(data,50),2)\n",
    "p_75=round(np.percentile(data,75),2)\n",
    "Max=round(np.max(data),2)\n",
    "values=[count,Min,p_25,Mean,Median,p_50,p_75,Max]\n",
    "ids=['count','Min','p_25','Mean','Median','p_50','p_75','Max']\n",
    "pd.DataFrame(values,index=ids,columns=['prevailing_wage'])"
   ]
  },
  {
   "cell_type": "code",
   "execution_count": null,
   "id": "2a04f1d4-85ef-476c-ad55-81cd6af70405",
   "metadata": {},
   "outputs": [],
   "source": []
  },
  {
   "cell_type": "code",
   "execution_count": null,
   "id": "5b741a86-ce64-412d-aab4-e6bd82a96f53",
   "metadata": {},
   "outputs": [],
   "source": [
    "#apply for loop"
   ]
  },
  {
   "cell_type": "code",
   "execution_count": 28,
   "id": "4e9940db-96ee-4a07-a470-77347b5caced",
   "metadata": {},
   "outputs": [],
   "source": [
    "ids=['count','Min','p_25','Mean','Median','p_50','p_75','Max']\n",
    "l=[]\n",
    "for i in num:\n",
    "    data=visa_df[i]  \n",
    "    count=len(data)\n",
    "    Min=round(np.min(data),2)\n",
    "    p_25=round(np.percentile(data,25),2)\n",
    "    Mean=round(np.mean(data),2)\n",
    "    Median=round(np.median(data),2)\n",
    "    p_50=round(np.percentile(data,50),2)\n",
    "    p_75=round(np.percentile(data,75),2)\n",
    "    Max=round(np.max(data),2)\n",
    "    values=[count,Min,p_25,Mean,Median,p_50,p_75,Max]\n",
    "    l.append(values)\n",
    "\n"
   ]
  },
  {
   "cell_type": "code",
   "execution_count": 31,
   "id": "709b56f7-0b8f-4c62-92a0-883851034881",
   "metadata": {},
   "outputs": [
    {
     "data": {
      "text/html": [
       "<div>\n",
       "<style scoped>\n",
       "    .dataframe tbody tr th:only-of-type {\n",
       "        vertical-align: middle;\n",
       "    }\n",
       "\n",
       "    .dataframe tbody tr th {\n",
       "        vertical-align: top;\n",
       "    }\n",
       "\n",
       "    .dataframe thead th {\n",
       "        text-align: right;\n",
       "    }\n",
       "</style>\n",
       "<table border=\"1\" class=\"dataframe\">\n",
       "  <thead>\n",
       "    <tr style=\"text-align: right;\">\n",
       "      <th></th>\n",
       "      <th>0</th>\n",
       "      <th>1</th>\n",
       "      <th>2</th>\n",
       "      <th>3</th>\n",
       "      <th>4</th>\n",
       "      <th>5</th>\n",
       "      <th>6</th>\n",
       "      <th>7</th>\n",
       "    </tr>\n",
       "  </thead>\n",
       "  <tbody>\n",
       "    <tr>\n",
       "      <th>0</th>\n",
       "      <td>25480</td>\n",
       "      <td>-26.00</td>\n",
       "      <td>1022.00</td>\n",
       "      <td>5667.04</td>\n",
       "      <td>2109.00</td>\n",
       "      <td>2109.00</td>\n",
       "      <td>3504.00</td>\n",
       "      <td>602069.00</td>\n",
       "    </tr>\n",
       "    <tr>\n",
       "      <th>1</th>\n",
       "      <td>25480</td>\n",
       "      <td>1800.00</td>\n",
       "      <td>1976.00</td>\n",
       "      <td>1979.41</td>\n",
       "      <td>1997.00</td>\n",
       "      <td>1997.00</td>\n",
       "      <td>2005.00</td>\n",
       "      <td>2016.00</td>\n",
       "    </tr>\n",
       "    <tr>\n",
       "      <th>2</th>\n",
       "      <td>25480</td>\n",
       "      <td>2.14</td>\n",
       "      <td>34015.48</td>\n",
       "      <td>74455.81</td>\n",
       "      <td>70308.21</td>\n",
       "      <td>70308.21</td>\n",
       "      <td>107735.51</td>\n",
       "      <td>319210.27</td>\n",
       "    </tr>\n",
       "  </tbody>\n",
       "</table>\n",
       "</div>"
      ],
      "text/plain": [
       "       0        1         2         3         4         5          6  \\\n",
       "0  25480   -26.00   1022.00   5667.04   2109.00   2109.00    3504.00   \n",
       "1  25480  1800.00   1976.00   1979.41   1997.00   1997.00    2005.00   \n",
       "2  25480     2.14  34015.48  74455.81  70308.21  70308.21  107735.51   \n",
       "\n",
       "           7  \n",
       "0  602069.00  \n",
       "1    2016.00  \n",
       "2  319210.27  "
      ]
     },
     "execution_count": 31,
     "metadata": {},
     "output_type": "execute_result"
    }
   ],
   "source": [
    "pd.DataFrame(l)"
   ]
  },
  {
   "cell_type": "code",
   "execution_count": null,
   "id": "4c04f3a7-5e66-4ef5-8d97-6ec322a931e6",
   "metadata": {},
   "outputs": [],
   "source": [
    "# need to give ids"
   ]
  },
  {
   "cell_type": "code",
   "execution_count": 32,
   "id": "0df79296-5383-47f0-825a-a6fa09392047",
   "metadata": {},
   "outputs": [
    {
     "data": {
      "text/html": [
       "<div>\n",
       "<style scoped>\n",
       "    .dataframe tbody tr th:only-of-type {\n",
       "        vertical-align: middle;\n",
       "    }\n",
       "\n",
       "    .dataframe tbody tr th {\n",
       "        vertical-align: top;\n",
       "    }\n",
       "\n",
       "    .dataframe thead th {\n",
       "        text-align: right;\n",
       "    }\n",
       "</style>\n",
       "<table border=\"1\" class=\"dataframe\">\n",
       "  <thead>\n",
       "    <tr style=\"text-align: right;\">\n",
       "      <th></th>\n",
       "      <th>count</th>\n",
       "      <th>Min</th>\n",
       "      <th>p_25</th>\n",
       "      <th>Mean</th>\n",
       "      <th>Median</th>\n",
       "      <th>p_50</th>\n",
       "      <th>p_75</th>\n",
       "      <th>Max</th>\n",
       "    </tr>\n",
       "  </thead>\n",
       "  <tbody>\n",
       "    <tr>\n",
       "      <th>0</th>\n",
       "      <td>25480</td>\n",
       "      <td>-26.00</td>\n",
       "      <td>1022.00</td>\n",
       "      <td>5667.04</td>\n",
       "      <td>2109.00</td>\n",
       "      <td>2109.00</td>\n",
       "      <td>3504.00</td>\n",
       "      <td>602069.00</td>\n",
       "    </tr>\n",
       "    <tr>\n",
       "      <th>1</th>\n",
       "      <td>25480</td>\n",
       "      <td>1800.00</td>\n",
       "      <td>1976.00</td>\n",
       "      <td>1979.41</td>\n",
       "      <td>1997.00</td>\n",
       "      <td>1997.00</td>\n",
       "      <td>2005.00</td>\n",
       "      <td>2016.00</td>\n",
       "    </tr>\n",
       "    <tr>\n",
       "      <th>2</th>\n",
       "      <td>25480</td>\n",
       "      <td>2.14</td>\n",
       "      <td>34015.48</td>\n",
       "      <td>74455.81</td>\n",
       "      <td>70308.21</td>\n",
       "      <td>70308.21</td>\n",
       "      <td>107735.51</td>\n",
       "      <td>319210.27</td>\n",
       "    </tr>\n",
       "  </tbody>\n",
       "</table>\n",
       "</div>"
      ],
      "text/plain": [
       "   count      Min      p_25      Mean    Median      p_50       p_75  \\\n",
       "0  25480   -26.00   1022.00   5667.04   2109.00   2109.00    3504.00   \n",
       "1  25480  1800.00   1976.00   1979.41   1997.00   1997.00    2005.00   \n",
       "2  25480     2.14  34015.48  74455.81  70308.21  70308.21  107735.51   \n",
       "\n",
       "         Max  \n",
       "0  602069.00  \n",
       "1    2016.00  \n",
       "2  319210.27  "
      ]
     },
     "execution_count": 32,
     "metadata": {},
     "output_type": "execute_result"
    }
   ],
   "source": [
    "pd.DataFrame(l,columns=ids)"
   ]
  },
  {
   "cell_type": "code",
   "execution_count": null,
   "id": "4b30e07c-00b3-4ff1-a330-3dc320eabad6",
   "metadata": {},
   "outputs": [],
   "source": []
  },
  {
   "cell_type": "code",
   "execution_count": 33,
   "id": "cc28a0a5-f65c-40e0-89e9-c01d39fe413d",
   "metadata": {},
   "outputs": [
    {
     "data": {
      "text/html": [
       "<div>\n",
       "<style scoped>\n",
       "    .dataframe tbody tr th:only-of-type {\n",
       "        vertical-align: middle;\n",
       "    }\n",
       "\n",
       "    .dataframe tbody tr th {\n",
       "        vertical-align: top;\n",
       "    }\n",
       "\n",
       "    .dataframe thead th {\n",
       "        text-align: right;\n",
       "    }\n",
       "</style>\n",
       "<table border=\"1\" class=\"dataframe\">\n",
       "  <thead>\n",
       "    <tr style=\"text-align: right;\">\n",
       "      <th></th>\n",
       "      <th>count</th>\n",
       "      <th>Min</th>\n",
       "      <th>p_25</th>\n",
       "      <th>Mean</th>\n",
       "      <th>Median</th>\n",
       "      <th>p_50</th>\n",
       "      <th>p_75</th>\n",
       "      <th>Max</th>\n",
       "    </tr>\n",
       "  </thead>\n",
       "  <tbody>\n",
       "    <tr>\n",
       "      <th>no_of_employees</th>\n",
       "      <td>25480</td>\n",
       "      <td>-26.00</td>\n",
       "      <td>1022.00</td>\n",
       "      <td>5667.04</td>\n",
       "      <td>2109.00</td>\n",
       "      <td>2109.00</td>\n",
       "      <td>3504.00</td>\n",
       "      <td>602069.00</td>\n",
       "    </tr>\n",
       "    <tr>\n",
       "      <th>yr_of_estab</th>\n",
       "      <td>25480</td>\n",
       "      <td>1800.00</td>\n",
       "      <td>1976.00</td>\n",
       "      <td>1979.41</td>\n",
       "      <td>1997.00</td>\n",
       "      <td>1997.00</td>\n",
       "      <td>2005.00</td>\n",
       "      <td>2016.00</td>\n",
       "    </tr>\n",
       "    <tr>\n",
       "      <th>prevailing_wage</th>\n",
       "      <td>25480</td>\n",
       "      <td>2.14</td>\n",
       "      <td>34015.48</td>\n",
       "      <td>74455.81</td>\n",
       "      <td>70308.21</td>\n",
       "      <td>70308.21</td>\n",
       "      <td>107735.51</td>\n",
       "      <td>319210.27</td>\n",
       "    </tr>\n",
       "  </tbody>\n",
       "</table>\n",
       "</div>"
      ],
      "text/plain": [
       "                 count      Min      p_25      Mean    Median      p_50  \\\n",
       "no_of_employees  25480   -26.00   1022.00   5667.04   2109.00   2109.00   \n",
       "yr_of_estab      25480  1800.00   1976.00   1979.41   1997.00   1997.00   \n",
       "prevailing_wage  25480     2.14  34015.48  74455.81  70308.21  70308.21   \n",
       "\n",
       "                      p_75        Max  \n",
       "no_of_employees    3504.00  602069.00  \n",
       "yr_of_estab        2005.00    2016.00  \n",
       "prevailing_wage  107735.51  319210.27  "
      ]
     },
     "execution_count": 33,
     "metadata": {},
     "output_type": "execute_result"
    }
   ],
   "source": [
    "pd.DataFrame(l,columns=ids,index=num)"
   ]
  },
  {
   "cell_type": "code",
   "execution_count": null,
   "id": "e11726ec-7a3c-4f66-9b6c-27497e1436d7",
   "metadata": {},
   "outputs": [],
   "source": [
    "# use .T for transpose"
   ]
  },
  {
   "cell_type": "code",
   "execution_count": 34,
   "id": "d1feefa4-31a4-492e-ae54-7037713358bb",
   "metadata": {},
   "outputs": [
    {
     "data": {
      "text/html": [
       "<div>\n",
       "<style scoped>\n",
       "    .dataframe tbody tr th:only-of-type {\n",
       "        vertical-align: middle;\n",
       "    }\n",
       "\n",
       "    .dataframe tbody tr th {\n",
       "        vertical-align: top;\n",
       "    }\n",
       "\n",
       "    .dataframe thead th {\n",
       "        text-align: right;\n",
       "    }\n",
       "</style>\n",
       "<table border=\"1\" class=\"dataframe\">\n",
       "  <thead>\n",
       "    <tr style=\"text-align: right;\">\n",
       "      <th></th>\n",
       "      <th>no_of_employees</th>\n",
       "      <th>yr_of_estab</th>\n",
       "      <th>prevailing_wage</th>\n",
       "    </tr>\n",
       "  </thead>\n",
       "  <tbody>\n",
       "    <tr>\n",
       "      <th>count</th>\n",
       "      <td>25480.00</td>\n",
       "      <td>25480.00</td>\n",
       "      <td>25480.00</td>\n",
       "    </tr>\n",
       "    <tr>\n",
       "      <th>Min</th>\n",
       "      <td>-26.00</td>\n",
       "      <td>1800.00</td>\n",
       "      <td>2.14</td>\n",
       "    </tr>\n",
       "    <tr>\n",
       "      <th>p_25</th>\n",
       "      <td>1022.00</td>\n",
       "      <td>1976.00</td>\n",
       "      <td>34015.48</td>\n",
       "    </tr>\n",
       "    <tr>\n",
       "      <th>Mean</th>\n",
       "      <td>5667.04</td>\n",
       "      <td>1979.41</td>\n",
       "      <td>74455.81</td>\n",
       "    </tr>\n",
       "    <tr>\n",
       "      <th>Median</th>\n",
       "      <td>2109.00</td>\n",
       "      <td>1997.00</td>\n",
       "      <td>70308.21</td>\n",
       "    </tr>\n",
       "    <tr>\n",
       "      <th>p_50</th>\n",
       "      <td>2109.00</td>\n",
       "      <td>1997.00</td>\n",
       "      <td>70308.21</td>\n",
       "    </tr>\n",
       "    <tr>\n",
       "      <th>p_75</th>\n",
       "      <td>3504.00</td>\n",
       "      <td>2005.00</td>\n",
       "      <td>107735.51</td>\n",
       "    </tr>\n",
       "    <tr>\n",
       "      <th>Max</th>\n",
       "      <td>602069.00</td>\n",
       "      <td>2016.00</td>\n",
       "      <td>319210.27</td>\n",
       "    </tr>\n",
       "  </tbody>\n",
       "</table>\n",
       "</div>"
      ],
      "text/plain": [
       "        no_of_employees  yr_of_estab  prevailing_wage\n",
       "count          25480.00     25480.00         25480.00\n",
       "Min              -26.00      1800.00             2.14\n",
       "p_25            1022.00      1976.00         34015.48\n",
       "Mean            5667.04      1979.41         74455.81\n",
       "Median          2109.00      1997.00         70308.21\n",
       "p_50            2109.00      1997.00         70308.21\n",
       "p_75            3504.00      2005.00        107735.51\n",
       "Max           602069.00      2016.00        319210.27"
      ]
     },
     "execution_count": 34,
     "metadata": {},
     "output_type": "execute_result"
    }
   ],
   "source": [
    "pd.DataFrame(l,\n",
    "             columns=ids, # give index list at columns place\n",
    "             index=num).T # give numerical column values at index place"
   ]
  },
  {
   "cell_type": "code",
   "execution_count": null,
   "id": "4e10015f-4219-4f83-99da-7fd45fead5ad",
   "metadata": {},
   "outputs": [],
   "source": []
  },
  {
   "cell_type": "code",
   "execution_count": null,
   "id": "b5a5d8af-bd86-4c48-98f0-6ae29b917eb6",
   "metadata": {},
   "outputs": [],
   "source": [
    "# we have done all numerical analysis but we have a method "
   ]
  },
  {
   "cell_type": "markdown",
   "id": "922b82ff-f26a-44dc-a1b7-34b761446016",
   "metadata": {},
   "source": [
    "**Method for numerical analysis**"
   ]
  },
  {
   "cell_type": "code",
   "execution_count": 36,
   "id": "59dbf0d7-be6e-4196-a524-8c1b5eae7451",
   "metadata": {},
   "outputs": [
    {
     "data": {
      "text/html": [
       "<div>\n",
       "<style scoped>\n",
       "    .dataframe tbody tr th:only-of-type {\n",
       "        vertical-align: middle;\n",
       "    }\n",
       "\n",
       "    .dataframe tbody tr th {\n",
       "        vertical-align: top;\n",
       "    }\n",
       "\n",
       "    .dataframe thead th {\n",
       "        text-align: right;\n",
       "    }\n",
       "</style>\n",
       "<table border=\"1\" class=\"dataframe\">\n",
       "  <thead>\n",
       "    <tr style=\"text-align: right;\">\n",
       "      <th></th>\n",
       "      <th>no_of_employees</th>\n",
       "      <th>yr_of_estab</th>\n",
       "      <th>prevailing_wage</th>\n",
       "    </tr>\n",
       "  </thead>\n",
       "  <tbody>\n",
       "    <tr>\n",
       "      <th>count</th>\n",
       "      <td>25480.000000</td>\n",
       "      <td>25480.000000</td>\n",
       "      <td>25480.000000</td>\n",
       "    </tr>\n",
       "    <tr>\n",
       "      <th>mean</th>\n",
       "      <td>5667.043210</td>\n",
       "      <td>1979.409929</td>\n",
       "      <td>74455.814592</td>\n",
       "    </tr>\n",
       "    <tr>\n",
       "      <th>std</th>\n",
       "      <td>22877.928848</td>\n",
       "      <td>42.366929</td>\n",
       "      <td>52815.942327</td>\n",
       "    </tr>\n",
       "    <tr>\n",
       "      <th>min</th>\n",
       "      <td>-26.000000</td>\n",
       "      <td>1800.000000</td>\n",
       "      <td>2.136700</td>\n",
       "    </tr>\n",
       "    <tr>\n",
       "      <th>25%</th>\n",
       "      <td>1022.000000</td>\n",
       "      <td>1976.000000</td>\n",
       "      <td>34015.480000</td>\n",
       "    </tr>\n",
       "    <tr>\n",
       "      <th>50%</th>\n",
       "      <td>2109.000000</td>\n",
       "      <td>1997.000000</td>\n",
       "      <td>70308.210000</td>\n",
       "    </tr>\n",
       "    <tr>\n",
       "      <th>75%</th>\n",
       "      <td>3504.000000</td>\n",
       "      <td>2005.000000</td>\n",
       "      <td>107735.512500</td>\n",
       "    </tr>\n",
       "    <tr>\n",
       "      <th>max</th>\n",
       "      <td>602069.000000</td>\n",
       "      <td>2016.000000</td>\n",
       "      <td>319210.270000</td>\n",
       "    </tr>\n",
       "  </tbody>\n",
       "</table>\n",
       "</div>"
      ],
      "text/plain": [
       "       no_of_employees   yr_of_estab  prevailing_wage\n",
       "count     25480.000000  25480.000000     25480.000000\n",
       "mean       5667.043210   1979.409929     74455.814592\n",
       "std       22877.928848     42.366929     52815.942327\n",
       "min         -26.000000   1800.000000         2.136700\n",
       "25%        1022.000000   1976.000000     34015.480000\n",
       "50%        2109.000000   1997.000000     70308.210000\n",
       "75%        3504.000000   2005.000000    107735.512500\n",
       "max      602069.000000   2016.000000    319210.270000"
      ]
     },
     "execution_count": 36,
     "metadata": {},
     "output_type": "execute_result"
    }
   ],
   "source": [
    "visa_df.describe()  # other trainer will do 1.5 hour class in 1 second using method"
   ]
  },
  {
   "cell_type": "code",
   "execution_count": null,
   "id": "c941716b-ab21-4a40-b9d0-fbd45c8b75f5",
   "metadata": {},
   "outputs": [],
   "source": []
  },
  {
   "cell_type": "code",
   "execution_count": null,
   "id": "acb3e80e-27a3-48bb-92df-5aaa9eb26941",
   "metadata": {},
   "outputs": [],
   "source": []
  },
  {
   "cell_type": "code",
   "execution_count": null,
   "id": "cbc7aa74-bd03-41de-8c4c-98de1d79bf34",
   "metadata": {},
   "outputs": [],
   "source": []
  },
  {
   "cell_type": "code",
   "execution_count": 24,
   "id": "e3503650-d463-4c03-88dc-5d8b4e44a09c",
   "metadata": {},
   "outputs": [
    {
     "name": "stdout",
     "output_type": "stream",
     "text": [
      "hello\n",
      "hello\n",
      "hello\n"
     ]
    }
   ],
   "source": [
    "for i in range(3):\n",
    "    a='hello'\n",
    "    l1=a\n",
    "    print(l1) # where you are saving, for that make one more empty list "
   ]
  },
  {
   "cell_type": "code",
   "execution_count": 26,
   "id": "43a58a6a-683d-4fc3-ba89-0c2a49bc7583",
   "metadata": {},
   "outputs": [
    {
     "data": {
      "text/html": [
       "<div>\n",
       "<style scoped>\n",
       "    .dataframe tbody tr th:only-of-type {\n",
       "        vertical-align: middle;\n",
       "    }\n",
       "\n",
       "    .dataframe tbody tr th {\n",
       "        vertical-align: top;\n",
       "    }\n",
       "\n",
       "    .dataframe thead th {\n",
       "        text-align: right;\n",
       "    }\n",
       "</style>\n",
       "<table border=\"1\" class=\"dataframe\">\n",
       "  <thead>\n",
       "    <tr style=\"text-align: right;\">\n",
       "      <th></th>\n",
       "      <th>0</th>\n",
       "    </tr>\n",
       "  </thead>\n",
       "  <tbody>\n",
       "    <tr>\n",
       "      <th>0</th>\n",
       "      <td>hello</td>\n",
       "    </tr>\n",
       "    <tr>\n",
       "      <th>1</th>\n",
       "      <td>hello</td>\n",
       "    </tr>\n",
       "    <tr>\n",
       "      <th>2</th>\n",
       "      <td>hello</td>\n",
       "    </tr>\n",
       "  </tbody>\n",
       "</table>\n",
       "</div>"
      ],
      "text/plain": [
       "       0\n",
       "0  hello\n",
       "1  hello\n",
       "2  hello"
      ]
     },
     "execution_count": 26,
     "metadata": {},
     "output_type": "execute_result"
    }
   ],
   "source": [
    "l=[]\n",
    "for i in range(3):\n",
    "    a='hello'\n",
    "    l1=a\n",
    "    l.append((l1))\n",
    "pd.DataFrame(l) "
   ]
  },
  {
   "cell_type": "code",
   "execution_count": 38,
   "id": "f13c3d13-13be-4736-88b7-cb01e3b1501a",
   "metadata": {},
   "outputs": [],
   "source": [
    "import pandas as pd\n",
    "import numpy as np\n",
    "import matplotlib.pyplot as plt\n",
    "import seaborn as sns\n",
    "\n",
    "visa_df=pd.read_csv('visadataset.csv')\n",
    "\n",
    "cat=visa_df.select_dtypes(include='object').columns\n",
    "num=visa_df.select_dtypes(exclude='object').columns"
   ]
  },
  {
   "cell_type": "code",
   "execution_count": 39,
   "id": "aae2e416-2225-4273-90f6-c12624af25fa",
   "metadata": {},
   "outputs": [
    {
     "data": {
      "text/plain": [
       "0           592.2029\n",
       "1         83425.6500\n",
       "2        122996.8600\n",
       "3         83434.0300\n",
       "4        149907.3900\n",
       "            ...     \n",
       "25475     77092.5700\n",
       "25476    279174.7900\n",
       "25477    146298.8500\n",
       "25478     86154.7700\n",
       "25479     70876.9100\n",
       "Name: prevailing_wage, Length: 25480, dtype: float64"
      ]
     },
     "execution_count": 39,
     "metadata": {},
     "output_type": "execute_result"
    }
   ],
   "source": [
    "wage_data=visa_df['prevailing_wage']\n",
    "wage_data"
   ]
  },
  {
   "cell_type": "code",
   "execution_count": 40,
   "id": "d9b31bee-85d0-42a4-b295-e52a282e81c4",
   "metadata": {},
   "outputs": [
    {
     "data": {
      "text/plain": [
       "(np.float64(34015.479999999996),\n",
       " np.float64(70308.20999999999),\n",
       " np.float64(107735.51250000001))"
      ]
     },
     "execution_count": 40,
     "metadata": {},
     "output_type": "execute_result"
    }
   ],
   "source": [
    "p_25=np.percentile(wage_data,25)\n",
    "p_50=np.percentile(wage_data,50)\n",
    "p_75=np.percentile(wage_data,75)\n",
    "p_25,p_50,p_75"
   ]
  },
  {
   "cell_type": "markdown",
   "id": "35625c34-0021-44fc-9f46-6ef015fc66fc",
   "metadata": {},
   "source": [
    "**meaning**\n",
    "\n",
    "-25percentage of applicans has wage less than 34015.47\n",
    "\n",
    "    - 25*25480/100= 6370 application has wage less than 34015.47\n",
    "\n",
    "-50percentage of applicans has wage less than 70308.20\n",
    "\n",
    "    - 50*25480/100= 12740 application has wage less than 70308.20\n",
    "\n",
    "\n",
    "-75percentage of applicans has wage less than 107735.51\n",
    "\n",
    "    - 75*25480/100= 19110 application has wage less than 107735.51\n",
    "\n",
    "    - 25% of 100 = 25\n",
    "\n",
    "    - 25% of 25480= 6"
   ]
  },
  {
   "cell_type": "markdown",
   "id": "20dc85a0-e124-4f35-8550-5b4d89f771bb",
   "metadata": {},
   "source": [
    "**idea**"
   ]
  },
  {
   "cell_type": "code",
   "execution_count": 41,
   "id": "737501a3-206d-4c9f-876b-52e648371eec",
   "metadata": {},
   "outputs": [
    {
     "data": {
      "text/plain": [
       "0           592.2029\n",
       "1         83425.6500\n",
       "2        122996.8600\n",
       "3         83434.0300\n",
       "4        149907.3900\n",
       "            ...     \n",
       "25475     77092.5700\n",
       "25476    279174.7900\n",
       "25477    146298.8500\n",
       "25478     86154.7700\n",
       "25479     70876.9100\n",
       "Name: prevailing_wage, Length: 25480, dtype: float64"
      ]
     },
     "execution_count": 41,
     "metadata": {},
     "output_type": "execute_result"
    }
   ],
   "source": [
    "p_25=np.percentile(wage_data,25)\n",
    "wage_data"
   ]
  },
  {
   "cell_type": "code",
   "execution_count": null,
   "id": "299653e1-c3a1-4cc5-95a6-98cac48ff122",
   "metadata": {},
   "outputs": [],
   "source": []
  },
  {
   "cell_type": "code",
   "execution_count": 42,
   "id": "e1e80121-a56c-4c94-accf-52e73f1652ee",
   "metadata": {},
   "outputs": [
    {
     "data": {
      "text/plain": [
       "6370"
      ]
     },
     "execution_count": 42,
     "metadata": {},
     "output_type": "execute_result"
    }
   ],
   "source": [
    "p_25=np.percentile(wage_data,25)\n",
    "con=wage_data<p_25\n",
    "len(visa_df[con])"
   ]
  },
  {
   "cell_type": "code",
   "execution_count": 43,
   "id": "4512468a-8675-430c-9d3e-4939617209d9",
   "metadata": {},
   "outputs": [
    {
     "data": {
      "text/plain": [
       "12740"
      ]
     },
     "execution_count": 43,
     "metadata": {},
     "output_type": "execute_result"
    }
   ],
   "source": [
    "p_50=np.percentile(wage_data,50)\n",
    "con=wage_data<p_50\n",
    "len(visa_df[con])"
   ]
  },
  {
   "cell_type": "code",
   "execution_count": 44,
   "id": "b33e243e-75ab-4b74-b3c1-d5c01d42bdb1",
   "metadata": {},
   "outputs": [
    {
     "data": {
      "text/plain": [
       "19110"
      ]
     },
     "execution_count": 44,
     "metadata": {},
     "output_type": "execute_result"
    }
   ],
   "source": [
    "p_75=np.percentile(wage_data,75)\n",
    "con=wage_data<p_75\n",
    "len(visa_df[con])"
   ]
  },
  {
   "cell_type": "markdown",
   "id": "c2d981d4-6463-4242-b5ed-4fb2449c8d68",
   "metadata": {},
   "source": [
    "**Empirical Rule**"
   ]
  },
  {
   "cell_type": "code",
   "execution_count": null,
   "id": "e117f0ad-941a-47a4-ad22-9acffc9f2c82",
   "metadata": {},
   "outputs": [],
   "source": [
    "- (μ ± σ) = 68% of data falls within 1 standard deviation of the mean (μ ± σ)\n",
    "\n",
    "- (μ ± 2σ)= 95% falls within 2 standard deviations (μ ± 2σ)\n",
    "\n",
    "- (μ ± 3σ)= 99.7% falls within 3 standard deviations (μ ± 3σ)"
   ]
  },
  {
   "cell_type": "code",
   "execution_count": null,
   "id": "b3c965a4-a151-46f2-9fe4-2559510a089f",
   "metadata": {},
   "outputs": [],
   "source": [
    "**Empirical rule** # EDA means statistcal \n",
    "\n",
    "u-1*std to u+1*std =68%\n",
    "or\n",
    "    (μ ± σ) = 68% of data falls within 1 standard deviation of the mean (μ ± σ)\n",
    "\n",
    "\n",
    "u-2*std to u+2*std =95%\n",
    "or\n",
    "    (μ ± 2σ)= 95% falls within 2 standard deviations (μ ± 2σ)\n",
    "\n",
    "\n",
    "u-3*std to u+3*std =99.7%\n",
    "or\n",
    "    (μ ± 3σ)= 99.7% falls within 3 standard deviations (μ ± 3σ)\n",
    "\n",
    "step-1: wage_mean\n",
    "step-2: wage_std\n",
    "step-3: lb=wage_mean-1*wage_std   # lower bound \n",
    "step-4: ub=wage_mean              # upper bound\n",
    "step-5: con1=wage_data>lb\n",
    "step-6: con2=wage_data<ub\n",
    "step-7: con=con1 & con2\n",
    "step-8: len(visa_df[con])==68*25480/100"
   ]
  },
  {
   "cell_type": "code",
   "execution_count": 18,
   "id": "ea34b918-b10b-4fff-a13b-383a3cd685ad",
   "metadata": {},
   "outputs": [
    {
     "data": {
      "text/plain": [
       "False"
      ]
     },
     "execution_count": 18,
     "metadata": {},
     "output_type": "execute_result"
    }
   ],
   "source": [
    "wage_mean=wage_data.mean()\n",
    "wage_std=wage_data.std()\n",
    "lb=wage_mean-1*wage_std\n",
    "ub=wage_mean+1*wage_std\n",
    "con1=wage_data>lb\n",
    "con2=wage_data<ub\n",
    "con=con1 & con2\n",
    "len(visa_df[con])==99.7*25480/100"
   ]
  },
  {
   "cell_type": "code",
   "execution_count": 20,
   "id": "e823c61f-5645-4739-9e2c-a2d4b7e8a117",
   "metadata": {},
   "outputs": [
    {
     "data": {
      "text/plain": [
       "False"
      ]
     },
     "execution_count": 20,
     "metadata": {},
     "output_type": "execute_result"
    }
   ],
   "source": [
    "wage_mean=wage_data.mean()\n",
    "wage_std=wage_data.std()\n",
    "lb=wage_mean-2*wage_std\n",
    "ub=wage_mean+2*wage_std\n",
    "con1=wage_data>lb\n",
    "con2=wage_data<ub\n",
    "con=con1 & con2\n",
    "len(visa_df[con])==99.7*25480/100"
   ]
  },
  {
   "cell_type": "code",
   "execution_count": 21,
   "id": "05ce4956-b5e7-4c3b-8c3d-0a3a7ba6def7",
   "metadata": {},
   "outputs": [
    {
     "data": {
      "text/plain": [
       "False"
      ]
     },
     "execution_count": 21,
     "metadata": {},
     "output_type": "execute_result"
    }
   ],
   "source": [
    "wage_mean=wage_data.mean()\n",
    "wage_std=wage_data.std()\n",
    "lb=wage_mean-3*wage_std\n",
    "ub=wage_mean+3*wage_std\n",
    "con1=wage_data>lb\n",
    "con2=wage_data<ub\n",
    "con=con1 & con2\n",
    "len(visa_df[con])==99.7*25480/100"
   ]
  },
  {
   "cell_type": "markdown",
   "id": "7bf7ada9-1f7a-4371-b71d-59d5ffc27d5b",
   "metadata": {},
   "source": [
    "**conclussion : Data does not following normal distribution**"
   ]
  },
  {
   "cell_type": "markdown",
   "id": "27157447-0a5b-404c-afec-cb81730f8034",
   "metadata": {},
   "source": [
    "**Histogram**"
   ]
  },
  {
   "cell_type": "code",
   "execution_count": 19,
   "id": "cb7b831f-3695-4d5b-8610-90be9930b760",
   "metadata": {},
   "outputs": [
    {
     "data": {
      "text/plain": [
       "(array([6038., 5504., 5681., 4551., 2334.,  624.,  373.,  240.,  114.,\n",
       "          21.]),\n",
       " array([2.13670000e+00, 3.19229500e+04, 6.38437634e+04, 9.57645767e+04,\n",
       "        1.27685390e+05, 1.59606203e+05, 1.91527017e+05, 2.23447830e+05,\n",
       "        2.55368643e+05, 2.87289457e+05, 3.19210270e+05]),\n",
       " <BarContainer object of 10 artists>)"
      ]
     },
     "execution_count": 19,
     "metadata": {},
     "output_type": "execute_result"
    },
    {
     "data": {
      "image/png": "[encoded data removed]",
      "text/plain": [
       "<Figure size 640x480 with 1 Axes>"
      ]
     },
     "metadata": {},
     "output_type": "display_data"
    }
   ],
   "source": [
    "plt.hist(wage_data)"
   ]
  },
  {
   "cell_type": "code",
   "execution_count": 45,
   "id": "56c46d96-3c28-4ff0-b568-c47f0fe54d51",
   "metadata": {},
   "outputs": [
    {
     "data": {
      "text/plain": [
       "6038"
      ]
     },
     "execution_count": 45,
     "metadata": {},
     "output_type": "execute_result"
    }
   ],
   "source": [
    "lb=wage_data>=2.13670000e+00\n",
    "ub=wage_data<3.19229500e+04\n",
    "con=lb & ub\n",
    "len(visa_df[con])"
   ]
  },
  {
   "cell_type": "code",
   "execution_count": 24,
   "id": "2cc6aebb-7c77-4fe9-80a5-278dc08ceca5",
   "metadata": {},
   "outputs": [
    {
     "data": {
      "image/png": "[encoded data removed]",
      "text/plain": [
       "<Figure size 640x480 with 1 Axes>"
      ]
     },
     "metadata": {},
     "output_type": "display_data"
    }
   ],
   "source": [
    "plt.hist(wage_data)\n",
    "plt.show()"
   ]
  },
  {
   "cell_type": "code",
   "execution_count": null,
   "id": "07bbc615-9028-4cf8-b1fb-3c3df9e757f3",
   "metadata": {},
   "outputs": [],
   "source": []
  },
  {
   "cell_type": "code",
   "execution_count": 25,
   "id": "991316ff-d9d0-4661-8e64-b3acc4c56691",
   "metadata": {},
   "outputs": [
    {
     "data": {
      "image/png": "[encoded data removed]",
      "text/plain": [
       "<Figure size 640x480 with 1 Axes>"
      ]
     },
     "metadata": {},
     "output_type": "display_data"
    }
   ],
   "source": [
    "plt.hist(wage_data,bins=40)\n",
    "plt.show()"
   ]
  },
  {
   "cell_type": "code",
   "execution_count": null,
   "id": "48768aed-4bb8-48af-85fb-46332770238c",
   "metadata": {},
   "outputs": [],
   "source": []
  },
  {
   "cell_type": "markdown",
   "id": "4ba8d1d6-5d38-4f39-8186-10af1aab421b",
   "metadata": {},
   "source": [
    "**Boxplot**"
   ]
  },
  {
   "cell_type": "code",
   "execution_count": 26,
   "id": "a5f21d10-c4ba-4714-8a56-ddc9aab189d1",
   "metadata": {},
   "outputs": [
    {
     "data": {
      "text/plain": [
       "{'whiskers': [<matplotlib.lines.Line2D at 0x246cd7da0d0>,\n",
       "  <matplotlib.lines.Line2D at 0x246cd7da210>],\n",
       " 'caps': [<matplotlib.lines.Line2D at 0x246cd7da350>,\n",
       "  <matplotlib.lines.Line2D at 0x246cd7da490>],\n",
       " 'boxes': [<matplotlib.lines.Line2D at 0x246cd7d9f90>],\n",
       " 'medians': [<matplotlib.lines.Line2D at 0x246cd7da5d0>],\n",
       " 'fliers': [<matplotlib.lines.Line2D at 0x246cd7da710>],\n",
       " 'means': []}"
      ]
     },
     "execution_count": 26,
     "metadata": {},
     "output_type": "execute_result"
    },
    {
     "data": {
      "image/png": "[encoded data removed]",
      "text/plain": [
       "<Figure size 640x480 with 1 Axes>"
      ]
     },
     "metadata": {},
     "output_type": "display_data"
    }
   ],
   "source": [
    "plt.boxplot(wage_data)"
   ]
  },
  {
   "cell_type": "code",
   "execution_count": 27,
   "id": "faf02491-e652-4a65-8a54-6db6a64b4046",
   "metadata": {},
   "outputs": [
    {
     "data": {
      "image/png": "[encoded data removed]",
      "text/plain": [
       "<Figure size 640x480 with 1 Axes>"
      ]
     },
     "metadata": {},
     "output_type": "display_data"
    }
   ],
   "source": [
    "plt.boxplot(wage_data,vert=False)\n",
    "plt.show()"
   ]
  },
  {
   "cell_type": "code",
   "execution_count": null,
   "id": "4f3145e3-896a-46bb-b30f-64702fd482f1",
   "metadata": {},
   "outputs": [],
   "source": [
    "# how many outliers are there in this "
   ]
  },
  {
   "cell_type": "code",
   "execution_count": null,
   "id": "cf67c8ec-f6a2-4430-9646-1cc9d9320bcb",
   "metadata": {},
   "outputs": [],
   "source": [
    "plt.boxplot(wage_data,vert=False)\n",
    "plt.show()"
   ]
  },
  {
   "cell_type": "code",
   "execution_count": null,
   "id": "9ec1a5b3-a035-4562-b55e-c8b265c1d1ce",
   "metadata": {},
   "outputs": [],
   "source": [
    "          Q1-1.5IQR   Q1   median  Q3   Q3+1.5IQR\n",
    "                       |-----:-----|\n",
    "       o      |--------|     :     |--------|    o  o\n",
    "                       |-----:-----|\n",
    "     flier             <----------->            fliers\n",
    "                            IQR"
   ]
  },
  {
   "cell_type": "code",
   "execution_count": null,
   "id": "dc29dc9e-5201-4425-898a-6510c9e6a9b3",
   "metadata": {},
   "outputs": [],
   "source": [
    "# outliers will be available less than q1 and greater than q3\n",
    "# lb=q1-1.5*IQR\n",
    "# ub=q3+1.5*IQR\n",
    "\n",
    "step-1: q1,q2,q3\n",
    "step-2: IQR\n",
    "step-3: lb=q-1.5*IQR\n",
    "step-4: ub=q3+1.5*IQR\n",
    "step-5: con1=wage_data<lb\n",
    "step-6: con2=wage_data>ub\n",
    "step-7: con=con1 | con2\n"
   ]
  },
  {
   "cell_type": "code",
   "execution_count": 32,
   "id": "1c900e79-b142-4afd-8141-b2253b2a5f9a",
   "metadata": {},
   "outputs": [
    {
     "data": {
      "text/plain": [
       "-38152.0"
      ]
     },
     "execution_count": 32,
     "metadata": {},
     "output_type": "execute_result"
    }
   ],
   "source": [
    "lb=68-1.5*25480\n",
    "lb"
   ]
  },
  {
   "cell_type": "code",
   "execution_count": 33,
   "id": "164b95d8-0107-4577-ab9e-b047d6a605ae",
   "metadata": {},
   "outputs": [
    {
     "data": {
      "text/plain": [
       "38319.7"
      ]
     },
     "execution_count": 33,
     "metadata": {},
     "output_type": "execute_result"
    }
   ],
   "source": [
    "ub=99.7+1.5*25480\n",
    "ub"
   ]
  },
  {
   "cell_type": "code",
   "execution_count": 34,
   "id": "a188eecf-0b0b-4d23-b319-bfd0d7687247",
   "metadata": {},
   "outputs": [
    {
     "data": {
      "text/plain": [
       "0        False\n",
       "1        False\n",
       "2        False\n",
       "3        False\n",
       "4        False\n",
       "         ...  \n",
       "25475    False\n",
       "25476    False\n",
       "25477    False\n",
       "25478    False\n",
       "25479    False\n",
       "Name: prevailing_wage, Length: 25480, dtype: bool"
      ]
     },
     "execution_count": 34,
     "metadata": {},
     "output_type": "execute_result"
    }
   ],
   "source": [
    "con1=wage_data<lb\n",
    "con1"
   ]
  },
  {
   "cell_type": "code",
   "execution_count": 35,
   "id": "202093af-ecfc-469f-9e14-4060d7601593",
   "metadata": {},
   "outputs": [
    {
     "data": {
      "text/plain": [
       "0        False\n",
       "1         True\n",
       "2         True\n",
       "3         True\n",
       "4         True\n",
       "         ...  \n",
       "25475     True\n",
       "25476     True\n",
       "25477     True\n",
       "25478     True\n",
       "25479     True\n",
       "Name: prevailing_wage, Length: 25480, dtype: bool"
      ]
     },
     "execution_count": 35,
     "metadata": {},
     "output_type": "execute_result"
    }
   ],
   "source": [
    "con2=wage_data>ub\n",
    "con2"
   ]
  },
  {
   "cell_type": "code",
   "execution_count": 37,
   "id": "fa808812-451c-450b-b413-6c9459dc43f2",
   "metadata": {},
   "outputs": [
    {
     "data": {
      "text/plain": [
       "0        False\n",
       "1        False\n",
       "2        False\n",
       "3        False\n",
       "4        False\n",
       "         ...  \n",
       "25475    False\n",
       "25476    False\n",
       "25477    False\n",
       "25478    False\n",
       "25479    False\n",
       "Name: prevailing_wage, Length: 25480, dtype: bool"
      ]
     },
     "execution_count": 37,
     "metadata": {},
     "output_type": "execute_result"
    }
   ],
   "source": [
    "con=con1 & con2\n",
    "con"
   ]
  },
  {
   "cell_type": "code",
   "execution_count": null,
   "id": "4d3ce6df-9632-49c6-bbc0-385b6b1ca889",
   "metadata": {},
   "outputs": [],
   "source": []
  },
  {
   "cell_type": "code",
   "execution_count": null,
   "id": "a4804bb8-1b5b-4e11-82ce-5761d7e8a381",
   "metadata": {},
   "outputs": [],
   "source": [
    "# outliers 427\n",
    "# non outliers = 25480-427= 25053 ====boxplot and histgram ===> that means tail will go==> outlier gone"
   ]
  },
  {
   "cell_type": "code",
   "execution_count": null,
   "id": "28d2d387-c26b-4645-b1ad-124eaa7d2078",
   "metadata": {},
   "outputs": [],
   "source": [
    "# outliers 427\n",
    "# non outliers_df = 25480-427= 25053 ====boxplot and histgram ===> that means tail will go==> outlier gone"
   ]
  },
  {
   "cell_type": "code",
   "execution_count": null,
   "id": "f6b5ba9a-d46a-444a-bc09-984ec213a93c",
   "metadata": {},
   "outputs": [],
   "source": [
    "========================= outlier data============================\n",
    "step-1: q1,q2,q3\n",
    "step-2: IQR\n",
    "step-3: lb=q1-1.5*IQR\n",
    "step-4: ub=q3+1.5*IQR\n",
    "step-5: con1=wage_data<lb\n",
    "step-6: con2=wage_data>ub\n",
    "step-7: con=con1 | con2\n",
    "\n",
    "\n",
    "==========================non outlier data ========================\n",
    "step-1: q1,q2,q3\n",
    "step-2: IQR\n",
    "step-3: lb=q-1.5*IQR\n",
    "step-4: ub=q3+1.5*IQR\n",
    "step-5: con1=wage_data>lb\n",
    "step-6: con2=wage_data<ub\n",
    "step-7: con=con1 & con2"
   ]
  },
  {
   "cell_type": "code",
   "execution_count": null,
   "id": "6c74755d-af29-433c-9868-49b0218b4d90",
   "metadata": {},
   "outputs": [],
   "source": [
    "**task-1: get outliers**\n",
    "\n",
    "**task-2: get non outlier data**\n",
    "\n",
    "    -draw the histogram and boxplot\n",
    "\n",
    "**task-3: you need to replace 427 values wage_median (25480)**\n",
    "\n",
    "    - draw the histogram and boxplot\n",
    "\n",
    "**task-4: 4x4 subplot**\n",
    "\n",
    "    - "
   ]
  },
  {
   "cell_type": "code",
   "execution_count": null,
   "id": "004ea10e-86be-450b-8d75-5d339fc2701d",
   "metadata": {},
   "outputs": [],
   "source": []
  },
  {
   "cell_type": "code",
   "execution_count": null,
   "id": "d75a2681-0cb3-4fbb-80a4-460038127da0",
   "metadata": {},
   "outputs": [],
   "source": []
  },
  {
   "cell_type": "code",
   "execution_count": null,
   "id": "158d1b5b-fac9-4dd9-ace5-d74615251d4e",
   "metadata": {},
   "outputs": [],
   "source": []
  },
  {
   "cell_type": "code",
   "execution_count": null,
   "id": "acad36b4-fa3b-4543-9c62-f0c66257383a",
   "metadata": {},
   "outputs": [],
   "source": []
  },
  {
   "cell_type": "code",
   "execution_count": null,
   "id": "9ec95f34-c572-4526-9cb9-5cfa9fc4ac70",
   "metadata": {},
   "outputs": [],
   "source": []
  },
  {
   "cell_type": "code",
   "execution_count": null,
   "id": "edb6a548-a2a5-429a-8eeb-e36443533bf9",
   "metadata": {},
   "outputs": [],
   "source": []
  },
  {
   "cell_type": "code",
   "execution_count": null,
   "id": "7cc673cb-dc25-405e-80a5-dd34237d6b9e",
   "metadata": {},
   "outputs": [],
   "source": []
  },
  {
   "cell_type": "code",
   "execution_count": null,
   "id": "c9c52d60-cc98-40e1-b669-783392e308bf",
   "metadata": {},
   "outputs": [],
   "source": []
  }
 ],
 "metadata": {
  "kernelspec": {
   "display_name": "Python 3 (ipykernel)",
   "language": "python",
   "name": "python3"
  },
  "language_info": {
   "codemirror_mode": {
    "name": "ipython",
    "version": 3
   },
   "file_extension": ".py",
   "mimetype": "text/x-python",
   "name": "python",
   "nbconvert_exporter": "python",
   "pygments_lexer": "ipython3",
   "version": "3.13.1"
  }
 },
 "nbformat": 4,
 "nbformat_minor": 5
}

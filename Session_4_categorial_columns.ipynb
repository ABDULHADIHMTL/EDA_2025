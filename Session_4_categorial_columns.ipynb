{
 "cells": [
  {
   "cell_type": "code",
   "execution_count": 4,
   "id": "8f30474e-82da-4524-9e93-f70582325c6f",
   "metadata": {},
   "outputs": [],
   "source": [
    "import pandas as pd\n",
    "import numpy as np\n",
    "import matplotlib.pyplot as plt\n",
    "import seaborn as sns"
   ]
  },
  {
   "cell_type": "code",
   "execution_count": 5,
   "id": "cbfde7eb-523e-4263-b889-b1ef3eaa1ad4",
   "metadata": {},
   "outputs": [],
   "source": [
    "visa_df=pd.read_csv(\"visadataset.csv\")"
   ]
  },
  {
   "cell_type": "code",
   "execution_count": 6,
   "id": "97c5778a-8399-48ab-ac82-05af5828dc16",
   "metadata": {},
   "outputs": [
    {
     "data": {
      "text/html": [
       "<div>\n",
       "<style scoped>\n",
       "    .dataframe tbody tr th:only-of-type {\n",
       "        vertical-align: middle;\n",
       "    }\n",
       "\n",
       "    .dataframe tbody tr th {\n",
       "        vertical-align: top;\n",
       "    }\n",
       "\n",
       "    .dataframe thead th {\n",
       "        text-align: right;\n",
       "    }\n",
       "</style>\n",
       "<table border=\"1\" class=\"dataframe\">\n",
       "  <thead>\n",
       "    <tr style=\"text-align: right;\">\n",
       "      <th></th>\n",
       "      <th>case_id</th>\n",
       "      <th>continent</th>\n",
       "      <th>education_of_employee</th>\n",
       "      <th>has_job_experience</th>\n",
       "      <th>requires_job_training</th>\n",
       "      <th>no_of_employees</th>\n",
       "      <th>yr_of_estab</th>\n",
       "      <th>region_of_employment</th>\n",
       "      <th>prevailing_wage</th>\n",
       "      <th>unit_of_wage</th>\n",
       "      <th>full_time_position</th>\n",
       "      <th>case_status</th>\n",
       "    </tr>\n",
       "  </thead>\n",
       "  <tbody>\n",
       "    <tr>\n",
       "      <th>0</th>\n",
       "      <td>EZYV01</td>\n",
       "      <td>Asia</td>\n",
       "      <td>High School</td>\n",
       "      <td>N</td>\n",
       "      <td>N</td>\n",
       "      <td>14513</td>\n",
       "      <td>2007</td>\n",
       "      <td>West</td>\n",
       "      <td>592.2029</td>\n",
       "      <td>Hour</td>\n",
       "      <td>Y</td>\n",
       "      <td>Denied</td>\n",
       "    </tr>\n",
       "    <tr>\n",
       "      <th>1</th>\n",
       "      <td>EZYV02</td>\n",
       "      <td>Asia</td>\n",
       "      <td>Master's</td>\n",
       "      <td>Y</td>\n",
       "      <td>N</td>\n",
       "      <td>2412</td>\n",
       "      <td>2002</td>\n",
       "      <td>Northeast</td>\n",
       "      <td>83425.6500</td>\n",
       "      <td>Year</td>\n",
       "      <td>Y</td>\n",
       "      <td>Certified</td>\n",
       "    </tr>\n",
       "    <tr>\n",
       "      <th>2</th>\n",
       "      <td>EZYV03</td>\n",
       "      <td>Asia</td>\n",
       "      <td>Bachelor's</td>\n",
       "      <td>N</td>\n",
       "      <td>Y</td>\n",
       "      <td>44444</td>\n",
       "      <td>2008</td>\n",
       "      <td>West</td>\n",
       "      <td>122996.8600</td>\n",
       "      <td>Year</td>\n",
       "      <td>Y</td>\n",
       "      <td>Denied</td>\n",
       "    </tr>\n",
       "    <tr>\n",
       "      <th>3</th>\n",
       "      <td>EZYV04</td>\n",
       "      <td>Asia</td>\n",
       "      <td>Bachelor's</td>\n",
       "      <td>N</td>\n",
       "      <td>N</td>\n",
       "      <td>98</td>\n",
       "      <td>1897</td>\n",
       "      <td>West</td>\n",
       "      <td>83434.0300</td>\n",
       "      <td>Year</td>\n",
       "      <td>Y</td>\n",
       "      <td>Denied</td>\n",
       "    </tr>\n",
       "    <tr>\n",
       "      <th>4</th>\n",
       "      <td>EZYV05</td>\n",
       "      <td>Africa</td>\n",
       "      <td>Master's</td>\n",
       "      <td>Y</td>\n",
       "      <td>N</td>\n",
       "      <td>1082</td>\n",
       "      <td>2005</td>\n",
       "      <td>South</td>\n",
       "      <td>149907.3900</td>\n",
       "      <td>Year</td>\n",
       "      <td>Y</td>\n",
       "      <td>Certified</td>\n",
       "    </tr>\n",
       "    <tr>\n",
       "      <th>...</th>\n",
       "      <td>...</td>\n",
       "      <td>...</td>\n",
       "      <td>...</td>\n",
       "      <td>...</td>\n",
       "      <td>...</td>\n",
       "      <td>...</td>\n",
       "      <td>...</td>\n",
       "      <td>...</td>\n",
       "      <td>...</td>\n",
       "      <td>...</td>\n",
       "      <td>...</td>\n",
       "      <td>...</td>\n",
       "    </tr>\n",
       "    <tr>\n",
       "      <th>25475</th>\n",
       "      <td>EZYV25476</td>\n",
       "      <td>Asia</td>\n",
       "      <td>Bachelor's</td>\n",
       "      <td>Y</td>\n",
       "      <td>Y</td>\n",
       "      <td>2601</td>\n",
       "      <td>2008</td>\n",
       "      <td>South</td>\n",
       "      <td>77092.5700</td>\n",
       "      <td>Year</td>\n",
       "      <td>Y</td>\n",
       "      <td>Certified</td>\n",
       "    </tr>\n",
       "    <tr>\n",
       "      <th>25476</th>\n",
       "      <td>EZYV25477</td>\n",
       "      <td>Asia</td>\n",
       "      <td>High School</td>\n",
       "      <td>Y</td>\n",
       "      <td>N</td>\n",
       "      <td>3274</td>\n",
       "      <td>2006</td>\n",
       "      <td>Northeast</td>\n",
       "      <td>279174.7900</td>\n",
       "      <td>Year</td>\n",
       "      <td>Y</td>\n",
       "      <td>Certified</td>\n",
       "    </tr>\n",
       "    <tr>\n",
       "      <th>25477</th>\n",
       "      <td>EZYV25478</td>\n",
       "      <td>Asia</td>\n",
       "      <td>Master's</td>\n",
       "      <td>Y</td>\n",
       "      <td>N</td>\n",
       "      <td>1121</td>\n",
       "      <td>1910</td>\n",
       "      <td>South</td>\n",
       "      <td>146298.8500</td>\n",
       "      <td>Year</td>\n",
       "      <td>N</td>\n",
       "      <td>Certified</td>\n",
       "    </tr>\n",
       "    <tr>\n",
       "      <th>25478</th>\n",
       "      <td>EZYV25479</td>\n",
       "      <td>Asia</td>\n",
       "      <td>Master's</td>\n",
       "      <td>Y</td>\n",
       "      <td>Y</td>\n",
       "      <td>1918</td>\n",
       "      <td>1887</td>\n",
       "      <td>West</td>\n",
       "      <td>86154.7700</td>\n",
       "      <td>Year</td>\n",
       "      <td>Y</td>\n",
       "      <td>Certified</td>\n",
       "    </tr>\n",
       "    <tr>\n",
       "      <th>25479</th>\n",
       "      <td>EZYV25480</td>\n",
       "      <td>Asia</td>\n",
       "      <td>Bachelor's</td>\n",
       "      <td>Y</td>\n",
       "      <td>N</td>\n",
       "      <td>3195</td>\n",
       "      <td>1960</td>\n",
       "      <td>Midwest</td>\n",
       "      <td>70876.9100</td>\n",
       "      <td>Year</td>\n",
       "      <td>Y</td>\n",
       "      <td>Certified</td>\n",
       "    </tr>\n",
       "  </tbody>\n",
       "</table>\n",
       "<p>25480 rows × 12 columns</p>\n",
       "</div>"
      ],
      "text/plain": [
       "         case_id continent education_of_employee has_job_experience  \\\n",
       "0         EZYV01      Asia           High School                  N   \n",
       "1         EZYV02      Asia              Master's                  Y   \n",
       "2         EZYV03      Asia            Bachelor's                  N   \n",
       "3         EZYV04      Asia            Bachelor's                  N   \n",
       "4         EZYV05    Africa              Master's                  Y   \n",
       "...          ...       ...                   ...                ...   \n",
       "25475  EZYV25476      Asia            Bachelor's                  Y   \n",
       "25476  EZYV25477      Asia           High School                  Y   \n",
       "25477  EZYV25478      Asia              Master's                  Y   \n",
       "25478  EZYV25479      Asia              Master's                  Y   \n",
       "25479  EZYV25480      Asia            Bachelor's                  Y   \n",
       "\n",
       "      requires_job_training  no_of_employees  yr_of_estab  \\\n",
       "0                         N            14513         2007   \n",
       "1                         N             2412         2002   \n",
       "2                         Y            44444         2008   \n",
       "3                         N               98         1897   \n",
       "4                         N             1082         2005   \n",
       "...                     ...              ...          ...   \n",
       "25475                     Y             2601         2008   \n",
       "25476                     N             3274         2006   \n",
       "25477                     N             1121         1910   \n",
       "25478                     Y             1918         1887   \n",
       "25479                     N             3195         1960   \n",
       "\n",
       "      region_of_employment  prevailing_wage unit_of_wage full_time_position  \\\n",
       "0                     West         592.2029         Hour                  Y   \n",
       "1                Northeast       83425.6500         Year                  Y   \n",
       "2                     West      122996.8600         Year                  Y   \n",
       "3                     West       83434.0300         Year                  Y   \n",
       "4                    South      149907.3900         Year                  Y   \n",
       "...                    ...              ...          ...                ...   \n",
       "25475                South       77092.5700         Year                  Y   \n",
       "25476            Northeast      279174.7900         Year                  Y   \n",
       "25477                South      146298.8500         Year                  N   \n",
       "25478                 West       86154.7700         Year                  Y   \n",
       "25479              Midwest       70876.9100         Year                  Y   \n",
       "\n",
       "      case_status  \n",
       "0          Denied  \n",
       "1       Certified  \n",
       "2          Denied  \n",
       "3          Denied  \n",
       "4       Certified  \n",
       "...           ...  \n",
       "25475   Certified  \n",
       "25476   Certified  \n",
       "25477   Certified  \n",
       "25478   Certified  \n",
       "25479   Certified  \n",
       "\n",
       "[25480 rows x 12 columns]"
      ]
     },
     "execution_count": 6,
     "metadata": {},
     "output_type": "execute_result"
    }
   ],
   "source": [
    "pd.read_csv(\"visadataset.csv\")"
   ]
  },
  {
   "cell_type": "code",
   "execution_count": 7,
   "id": "83ef1b49-81a8-4327-bf4c-b6461ecc129c",
   "metadata": {},
   "outputs": [
    {
     "data": {
      "text/plain": [
       "case_id                   object\n",
       "continent                 object\n",
       "education_of_employee     object\n",
       "has_job_experience        object\n",
       "requires_job_training     object\n",
       "no_of_employees            int64\n",
       "yr_of_estab                int64\n",
       "region_of_employment      object\n",
       "prevailing_wage          float64\n",
       "unit_of_wage              object\n",
       "full_time_position        object\n",
       "case_status               object\n",
       "dtype: object"
      ]
     },
     "execution_count": 7,
     "metadata": {},
     "output_type": "execute_result"
    }
   ],
   "source": [
    "visa_df.dtypes"
   ]
  },
  {
   "cell_type": "code",
   "execution_count": 8,
   "id": "efccd0b4-7d1a-4e19-a8a3-374beb90c72e",
   "metadata": {},
   "outputs": [
    {
     "data": {
      "text/plain": [
       "Index(['no_of_employees', 'yr_of_estab', 'prevailing_wage'], dtype='object')"
      ]
     },
     "execution_count": 8,
     "metadata": {},
     "output_type": "execute_result"
    }
   ],
   "source": [
    "visa_df.select_dtypes(include='object').columns\n",
    "visa_df.select_dtypes(exclude='object').columns"
   ]
  },
  {
   "cell_type": "code",
   "execution_count": 9,
   "id": "76c4aa07-a5ae-4a32-8dc0-62f6a1551e89",
   "metadata": {},
   "outputs": [],
   "source": [
    "cat=visa_df.select_dtypes(include='object').columns # categoria ldata\n",
    "num=visa_df.select_dtypes(exclude='object').columns # Numerical data "
   ]
  },
  {
   "cell_type": "code",
   "execution_count": 10,
   "id": "2f4a2b19-8cb1-49fd-ba23-59e432c57c6e",
   "metadata": {},
   "outputs": [
    {
     "data": {
      "text/plain": [
       "Index(['case_id', 'continent', 'education_of_employee', 'has_job_experience',\n",
       "       'requires_job_training', 'region_of_employment', 'unit_of_wage',\n",
       "       'full_time_position', 'case_status'],\n",
       "      dtype='object')"
      ]
     },
     "execution_count": 10,
     "metadata": {},
     "output_type": "execute_result"
    }
   ],
   "source": [
    "cat"
   ]
  },
  {
   "cell_type": "code",
   "execution_count": 11,
   "id": "68a23987-a6d9-4766-af7b-d2f7f397a814",
   "metadata": {},
   "outputs": [
    {
     "data": {
      "text/plain": [
       "Index(['no_of_employees', 'yr_of_estab', 'prevailing_wage'], dtype='object')"
      ]
     },
     "execution_count": 11,
     "metadata": {},
     "output_type": "execute_result"
    }
   ],
   "source": [
    "num"
   ]
  },
  {
   "cell_type": "code",
   "execution_count": 13,
   "id": "73e3d840-f92d-4690-a180-d13fe861c8ff",
   "metadata": {},
   "outputs": [
    {
     "data": {
      "text/plain": [
       "continent\n",
       "Asia             66.173469\n",
       "Europe           14.646782\n",
       "North America    12.919937\n",
       "South America     3.343799\n",
       "Africa            2.162480\n",
       "Oceania           0.753532\n",
       "Name: proportion, dtype: float64"
      ]
     },
     "execution_count": 13,
     "metadata": {},
     "output_type": "execute_result"
    }
   ],
   "source": [
    "continent_vc=visa_df['continent'].value_counts(normalize=True)\n",
    "continent_vc*100"
   ]
  },
  {
   "cell_type": "code",
   "execution_count": 12,
   "id": "df30f799-30cf-43d2-99ae-f525141d3539",
   "metadata": {},
   "outputs": [
    {
     "data": {
      "text/html": [
       "<div>\n",
       "<style scoped>\n",
       "    .dataframe tbody tr th:only-of-type {\n",
       "        vertical-align: middle;\n",
       "    }\n",
       "\n",
       "    .dataframe tbody tr th {\n",
       "        vertical-align: top;\n",
       "    }\n",
       "\n",
       "    .dataframe thead th {\n",
       "        text-align: right;\n",
       "    }\n",
       "</style>\n",
       "<table border=\"1\" class=\"dataframe\">\n",
       "  <thead>\n",
       "    <tr style=\"text-align: right;\">\n",
       "      <th></th>\n",
       "      <th>class</th>\n",
       "      <th>Frequency</th>\n",
       "    </tr>\n",
       "  </thead>\n",
       "  <tbody>\n",
       "    <tr>\n",
       "      <th>0</th>\n",
       "      <td>Asia</td>\n",
       "      <td>16861</td>\n",
       "    </tr>\n",
       "    <tr>\n",
       "      <th>1</th>\n",
       "      <td>Europe</td>\n",
       "      <td>3732</td>\n",
       "    </tr>\n",
       "    <tr>\n",
       "      <th>2</th>\n",
       "      <td>North America</td>\n",
       "      <td>3292</td>\n",
       "    </tr>\n",
       "    <tr>\n",
       "      <th>3</th>\n",
       "      <td>South America</td>\n",
       "      <td>852</td>\n",
       "    </tr>\n",
       "    <tr>\n",
       "      <th>4</th>\n",
       "      <td>Africa</td>\n",
       "      <td>551</td>\n",
       "    </tr>\n",
       "    <tr>\n",
       "      <th>5</th>\n",
       "      <td>Oceania</td>\n",
       "      <td>192</td>\n",
       "    </tr>\n",
       "  </tbody>\n",
       "</table>\n",
       "</div>"
      ],
      "text/plain": [
       "           class  Frequency\n",
       "0           Asia      16861\n",
       "1         Europe       3732\n",
       "2  North America       3292\n",
       "3  South America        852\n",
       "4         Africa        551\n",
       "5        Oceania        192"
      ]
     },
     "execution_count": 12,
     "metadata": {},
     "output_type": "execute_result"
    }
   ],
   "source": [
    "continent_vc=visa_df['continent'].value_counts()\n",
    "lables=continent_vc.keys()\n",
    "count=continent_vc.values\n",
    "continent_vc=pd.DataFrame(zip(lables,count),columns=['class','Frequency'])\n",
    "continent_vc"
   ]
  },
  {
   "cell_type": "code",
   "execution_count": 17,
   "id": "f24a4f25-453b-4fdf-9b08-f58f4cd6d41c",
   "metadata": {},
   "outputs": [],
   "source": [
    "keys=visa_df['continent'].value_counts().keys()\n",
    "values=visa_df['continent'].value_counts().values\n",
    "df=pd.DataFrame(zip(keys,values))\n",
    "df.to_csv('continent_df.csv',index=False)"
   ]
  },
  {
   "cell_type": "code",
   "execution_count": null,
   "id": "c32a7454-324b-49b4-8f89-8769eec9b0e0",
   "metadata": {},
   "outputs": [],
   "source": [
    "visa_df"
   ]
  },
  {
   "cell_type": "code",
   "execution_count": null,
   "id": "8c979d84-276b-4147-8e3d-e9d8a553d172",
   "metadata": {},
   "outputs": [],
   "source": [
    "for i in cat[1]:\n",
    "    print(i)"
   ]
  },
  {
   "cell_type": "code",
   "execution_count": 21,
   "id": "239e256e-0ebb-4fed-ba09-991c1656cee0",
   "metadata": {},
   "outputs": [],
   "source": [
    "for i in cat[1:]:\n",
    "    keys=visa_df[i].value_counts().keys()\n",
    "    values=visa_df[i].value_counts().values\n",
    "    df=pd.DataFrame(zip(keys,values),\n",
    "                   columns=['Class', 'Frequency'])\n",
    "    df.to_csv(f'{i}df.csv',index=False)"
   ]
  },
  {
   "cell_type": "code",
   "execution_count": null,
   "id": "ad4e97c5-79f9-4457-baa1-efe7534850c1",
   "metadata": {},
   "outputs": [],
   "source": [
    "# I want to save all frequency tables in another folder\n",
    "# creat a folder at the same python location directory\n",
    "\n",
    "# provide the full path while saving "
   ]
  },
  {
   "cell_type": "code",
   "execution_count": null,
   "id": "d9563912-7f41-4809-b85e-b678eeace6b4",
   "metadata": {},
   "outputs": [],
   "source": [
    "for i in cat[1:]:\n",
    "    keys=visa_df[i].value_counts().keys()\n",
    "    values=visa_df[i].value_counts().values\n",
    "    df=pd.DataFrame(zip(keys,values),\n",
    "                   columns=['Class', 'Frequency'])\n",
    "    df.to_csv(f'{i}df.csv',index=False)"
   ]
  },
  {
   "cell_type": "code",
   "execution_count": 24,
   "id": "01c5a0fb-421c-4dab-a977-e164987a5474",
   "metadata": {},
   "outputs": [
    {
     "data": {
      "text/plain": [
       "'D:\\\\NARESH IT\\\\EDA\\\\frequency_tables'"
      ]
     },
     "execution_count": 24,
     "metadata": {},
     "output_type": "execute_result"
    }
   ],
   "source": [
    "import os\n",
    "folder_name='frequency_tables'\n",
    "directory=os.getcwd()\n",
    "# directory+'\\\\'+folder_name\n",
    "os.path.join(directory,folder_name)"
   ]
  },
  {
   "cell_type": "code",
   "execution_count": null,
   "id": "2d6f0171-6ee2-4919-9c60-c62e9e127e0a",
   "metadata": {},
   "outputs": [],
   "source": [
    "full-path=cwd+foldername+filename.csv"
   ]
  },
  {
   "cell_type": "code",
   "execution_count": null,
   "id": "2be8d0fb-53fd-43cd-ab16-4d2a6badf6f1",
   "metadata": {},
   "outputs": [],
   "source": [
    "import os\n",
    "folder_name='frequency_tables'\n",
    "directory=os.getcwd()\n",
    "# directory+'\\\\'+folder_name\n",
    "os.path.join(directory,folder_name)"
   ]
  },
  {
   "cell_type": "code",
   "execution_count": 23,
   "id": "b25bb120-9656-4337-91d7-c62f71f7bd78",
   "metadata": {},
   "outputs": [],
   "source": [
    "import os\n",
    "folder_name='frequency_tables'\n",
    "directory=os.getcwd()\n",
    "for i in cat[1:]:\n",
    "    file_name='continent_df.csv'\n",
    "    # directory+'\\\\'+folder_name\n",
    "    os.path.join(directory,folder_name,file_name)"
   ]
  },
  {
   "cell_type": "code",
   "execution_count": null,
   "id": "54a71f63-16df-44a3-b01c-2615d1e5760e",
   "metadata": {},
   "outputs": [],
   "source": [
    "# step-1 : folder name\n",
    "# step 2 : cwd\n",
    "# step 3 : filename with extension"
   ]
  },
  {
   "cell_type": "code",
   "execution_count": 29,
   "id": "212728b4-9dfb-4e2e-be93-a7c80554e45b",
   "metadata": {},
   "outputs": [],
   "source": [
    "import os\n",
    "folder_name='frequency_tables'\n",
    "cwd=os.getcwd()\n",
    "for i in cat[1:]:\n",
    "    keys=visa_df[i].value_counts().keys()\n",
    "    values=visa_df[i].value_counts().values\n",
    "    df=pd.DataFrame(zip(keys,values),\n",
    "                   columns=['Class', 'Frequency'])\n",
    "    file_name=f'{i}.csv'\n",
    "    path= os.path.join(cwd,folder_name,file_name)\n",
    "    df.to_csv(path,index=False)"
   ]
  },
  {
   "cell_type": "code",
   "execution_count": 31,
   "id": "1356aece-f67b-4f23-84e8-5d321f39b6ed",
   "metadata": {},
   "outputs": [
    {
     "name": "stdout",
     "output_type": "stream",
     "text": [
      "[WinError 183] Cannot create a file when that file already exists: 'frequency_tables'\n"
     ]
    }
   ],
   "source": [
    "import os\n",
    "folder_name='frequency_tables'   # change 1 \n",
    "try:\n",
    "    directory=os.makedirs(folder_name)\n",
    "except Exception as e:\n",
    "    print(e)\n",
    "cwd=os.getcwd()\n",
    "for i in cat[1:]:\n",
    "    keys=visa_df[i].value_counts().keys()\n",
    "    values=visa_df[i].value_counts().values\n",
    "    df=pd.DataFrame(zip(keys,values),\n",
    "                   columns=['Class', 'Frequency'])\n",
    "     # change-2 \n",
    "    file_name=f\"{i}.csv\"     # change-3 \n",
    "    path=os.path.join(cwd,folder_name,file_name)\n",
    "    df.to_csv(path,index=False)\n"
   ]
  },
  {
   "cell_type": "code",
   "execution_count": null,
   "id": "26761dc5-92f1-4c22-a448-0e356b81b32c",
   "metadata": {},
   "outputs": [],
   "source": []
  },
  {
   "cell_type": "code",
   "execution_count": 36,
   "id": "1ae1f864-daa8-4df8-b833-e71930732dc2",
   "metadata": {},
   "outputs": [
    {
     "data": {
      "image/png": "[encoded data removed]",
      "text/plain": [
       "<Figure size 640x480 with 1 Axes>"
      ]
     },
     "metadata": {},
     "output_type": "display_data"
    }
   ],
   "source": [
    "keys=visa_df['continent'].value_counts().keys()\n",
    "values=visa_df['continent'].value_counts().values\n",
    "plt.bar(keys,values)\n",
    "plt.savefig('continent_bar.jpg')"
   ]
  },
  {
   "cell_type": "code",
   "execution_count": 43,
   "id": "d9fffc59-6375-4fae-8540-8667e96cc607",
   "metadata": {},
   "outputs": [
    {
     "name": "stdout",
     "output_type": "stream",
     "text": [
      "[WinError 183] Cannot create a file when that file already exists: 'bar_chart'\n"
     ]
    },
    {
     "data": {
      "image/png": "[encoded data removed]",
      "text/plain": [
       "<Figure size 640x480 with 1 Axes>"
      ]
     },
     "metadata": {},
     "output_type": "display_data"
    }
   ],
   "source": [
    "import os\n",
    "folder_name='bar_chart'   # change 1 \n",
    "try:\n",
    "    directory=os.makedirs(folder_name)\n",
    "except Exception as e:\n",
    "    print(e)\n",
    "cwd=os.getcwd()\n",
    "for i in cat[1:]:\n",
    "    keys=visa_df[i].value_counts().keys()\n",
    "    values=visa_df[i].value_counts().values\n",
    "    plt.bar(keys,values)\n",
    "   \n",
    "     # change-2 \n",
    "    file_name=f\"{i}.jpg\"     # change-3 \n",
    "    path=os.path.join(cwd,folder_name,file_name)\n",
    "    plt.savefig(path)"
   ]
  },
  {
   "cell_type": "code",
   "execution_count": null,
   "id": "85c5a032-4acc-4e93-8cc1-ee1d201e3f32",
   "metadata": {},
   "outputs": [],
   "source": []
  },
  {
   "cell_type": "code",
   "execution_count": 45,
   "id": "38ddd689-fd8e-430a-ad53-c64a002d3046",
   "metadata": {},
   "outputs": [
    {
     "name": "stdout",
     "output_type": "stream",
     "text": [
      "[WinError 183] Cannot create a file when that file already exists: 'pie_chart'\n"
     ]
    },
    {
     "data": {
      "image/png": "[encoded data removed]",
      "text/plain": [
       "<Figure size 640x480 with 1 Axes>"
      ]
     },
     "metadata": {},
     "output_type": "display_data"
    }
   ],
   "source": [
    "import os\n",
    "folder_name='pie_chart'   # change 1 \n",
    "try:\n",
    "    directory=os.makedirs(folder_name)\n",
    "except Exception as e:\n",
    "    print(e)\n",
    "cwd=os.getcwd()\n",
    "for i in cat[1:]:\n",
    "    keys=visa_df[i].value_counts().keys()\n",
    "    values=visa_df[i].value_counts().values\n",
    "    plt.pie(values,labels=keys,autopct='%0.2f%%')\n",
    "   \n",
    "     # change-2 \n",
    "    file_name=f\"{i}.jpg\"     # change-3 \n",
    "    path=os.path.join(cwd,folder_name,file_name)\n",
    "    plt.savefig(path)"
   ]
  },
  {
   "cell_type": "code",
   "execution_count": null,
   "id": "26a80167-ed6b-405a-9cb0-570a32257a18",
   "metadata": {},
   "outputs": [],
   "source": []
  },
  {
   "cell_type": "code",
   "execution_count": null,
   "id": "bd73a9b3-1731-4105-951f-662ca34ecb50",
   "metadata": {},
   "outputs": [],
   "source": []
  }
 ],
 "metadata": {
  "kernelspec": {
   "display_name": "Python 3 (ipykernel)",
   "language": "python",
   "name": "python3"
  },
  "language_info": {
   "codemirror_mode": {
    "name": "ipython",
    "version": 3
   },
   "file_extension": ".py",
   "mimetype": "text/x-python",
   "name": "python",
   "nbconvert_exporter": "python",
   "pygments_lexer": "ipython3",
   "version": "3.13.1"
  }
 },
 "nbformat": 4,
 "nbformat_minor": 5
}

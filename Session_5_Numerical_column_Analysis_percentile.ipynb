{
 "cells": [
  {
   "cell_type": "code",
   "execution_count": null,
   "id": "6a863244-9827-4f33-8f28-d19e62e7356b",
   "metadata": {},
   "outputs": [],
   "source": [
    "# import packages\n",
    "# Read the data\n",
    "# convert cat and numerical columns\n",
    "# read prevailing_wage data\n",
    "# wage_data=visa_df[prevailing_wage]\n",
    "# len\n",
    "# min\n",
    "# max\n",
    "# mean\n",
    "# meadian\n",
    "# 25p\n",
    "# 50p\n",
    "# 75p\n",
    "\n",
    "# everything is possible with numpy"
   ]
  },
  {
   "cell_type": "code",
   "execution_count": 3,
   "id": "dfe2c63d-7f0e-412e-85c3-7c6ae1e040b0",
   "metadata": {},
   "outputs": [],
   "source": [
    "import pandas as pd\n",
    "import numpy as np\n",
    "import matplotlib.pyplot as plt\n",
    "import seaborn as sns\n",
    "\n",
    "visa_df=pd.read_csv('Visadataset.csv')\n",
    "\n",
    "cat=visa_df.select_dtypes(include='object').columns\n",
    "num=visa_df.select_dtypes(exclude='object').columns"
   ]
  },
  {
   "cell_type": "code",
   "execution_count": 4,
   "id": "6b7f9682-9e89-4c71-b655-75ed7901b942",
   "metadata": {},
   "outputs": [
    {
     "data": {
      "text/plain": [
       "0           592.2029\n",
       "1         83425.6500\n",
       "2        122996.8600\n",
       "3         83434.0300\n",
       "4        149907.3900\n",
       "            ...     \n",
       "25475     77092.5700\n",
       "25476    279174.7900\n",
       "25477    146298.8500\n",
       "25478     86154.7700\n",
       "25479     70876.9100\n",
       "Name: prevailing_wage, Length: 25480, dtype: float64"
      ]
     },
     "execution_count": 4,
     "metadata": {},
     "output_type": "execute_result"
    }
   ],
   "source": [
    "visa_df['prevailing_wage']"
   ]
  },
  {
   "cell_type": "code",
   "execution_count": 5,
   "id": "e3769635-bce1-423a-80bc-031b8eff6cbe",
   "metadata": {},
   "outputs": [
    {
     "data": {
      "text/plain": [
       "0           592.2029\n",
       "1         83425.6500\n",
       "2        122996.8600\n",
       "3         83434.0300\n",
       "4        149907.3900\n",
       "            ...     \n",
       "25475     77092.5700\n",
       "25476    279174.7900\n",
       "25477    146298.8500\n",
       "25478     86154.7700\n",
       "25479     70876.9100\n",
       "Name: prevailing_wage, Length: 25480, dtype: float64"
      ]
     },
     "execution_count": 5,
     "metadata": {},
     "output_type": "execute_result"
    }
   ],
   "source": [
    "wage_data=visa_df['prevailing_wage']\n",
    "wage_data"
   ]
  },
  {
   "cell_type": "code",
   "execution_count": 6,
   "id": "c2cecf02-97fb-4f88-b1b8-a088be5a0e18",
   "metadata": {},
   "outputs": [
    {
     "data": {
      "image/png": "[encoded data removed]",
      "text/plain": [
       "<Figure size 640x480 with 1 Axes>"
      ]
     },
     "metadata": {},
     "output_type": "display_data"
    }
   ],
   "source": [
    "wage_data = visa_df['prevailing_wage']\n",
    "analysis1 = wage_data.mean()\n",
    "analysis2 = wage_data.median()\n",
    "plot = wage_data.hist()"
   ]
  },
  {
   "cell_type": "markdown",
   "id": "a6105bd6-2976-4c64-a8c4-83edfba56b8b",
   "metadata": {},
   "source": [
    "**Percentile concepts**"
   ]
  },
  {
   "cell_type": "code",
   "execution_count": 13,
   "id": "bf849a8e-13ef-4515-b7ef-8136a48eec8d",
   "metadata": {},
   "outputs": [
    {
     "data": {
      "text/plain": [
       "0           592.2029\n",
       "1         83425.6500\n",
       "2        122996.8600\n",
       "3         83434.0300\n",
       "4        149907.3900\n",
       "            ...     \n",
       "25475     77092.5700\n",
       "25476    279174.7900\n",
       "25477    146298.8500\n",
       "25478     86154.7700\n",
       "25479     70876.9100\n",
       "Name: prevailing_wage, Length: 25480, dtype: float64"
      ]
     },
     "execution_count": 13,
     "metadata": {},
     "output_type": "execute_result"
    }
   ],
   "source": [
    "wage_data=visa_df['prevailing_wage']\n",
    "wage_data"
   ]
  },
  {
   "cell_type": "code",
   "execution_count": null,
   "id": "2fda77ad-214a-444d-bd77-e58016ac7285",
   "metadata": {},
   "outputs": [],
   "source": [
    "#calculate 25 percentile value of wage_data"
   ]
  },
  {
   "cell_type": "code",
   "execution_count": 19,
   "id": "9577ca86-bbda-4a9f-9a0b-5feb475bf9bb",
   "metadata": {},
   "outputs": [
    {
     "data": {
      "text/plain": [
       "(np.float64(34015.479999999996),\n",
       " np.float64(70308.20999999999),\n",
       " np.float64(107735.51250000001))"
      ]
     },
     "execution_count": 19,
     "metadata": {},
     "output_type": "execute_result"
    }
   ],
   "source": [
    "p_25=np.percentile(wage_data,25)\n",
    "p_50=np.percentile(wage_data,50)\n",
    "p_75=np.percentile(wage_data,75)\n",
    "p_25,p_50,p_75"
   ]
  },
  {
   "cell_type": "markdown",
   "id": "ab1329b8-113f-4070-a42b-e841c9c48723",
   "metadata": {},
   "source": [
    "** meaning**\n",
    "\n",
    "- 25 percentage of applicants has wage less than or equal to 34015.47\n",
    "\n",
    "    - 25*25480/100=6370\n",
    "\n",
    "- 50 percentage of applicants has wage less than or equal to 70308.20\n",
    "\n",
    "    - 50*25480/100= 12740\n",
    "\n",
    "\n",
    "- 75 percentage of applicants has wage less than or equal to 107735.51\n",
    "\n",
    "    - 75*25480/100 = 19110\n"
   ]
  },
  {
   "cell_type": "markdown",
   "id": "0b856454-b91b-4d11-9947-17b66f2f43a1",
   "metadata": {},
   "source": [
    "**idea**"
   ]
  },
  {
   "cell_type": "code",
   "execution_count": 22,
   "id": "70845536-95d3-4060-bcfe-40b3b76b1f3a",
   "metadata": {},
   "outputs": [
    {
     "data": {
      "text/plain": [
       "6370"
      ]
     },
     "execution_count": 22,
     "metadata": {},
     "output_type": "execute_result"
    }
   ],
   "source": [
    "p_25=np.percentile(wage_data,25)\n",
    "con=wage_data<p_25\n",
    "len(visa_df[con])"
   ]
  },
  {
   "cell_type": "code",
   "execution_count": 23,
   "id": "6c07640c-dd73-495d-90b5-4eedf8cc7b74",
   "metadata": {},
   "outputs": [
    {
     "data": {
      "text/plain": [
       "12740"
      ]
     },
     "execution_count": 23,
     "metadata": {},
     "output_type": "execute_result"
    }
   ],
   "source": [
    "p_50=np.percentile(wage_data,50)\n",
    "con=wage_data<p_50\n",
    "len(visa_df[con])"
   ]
  },
  {
   "cell_type": "code",
   "execution_count": 24,
   "id": "44c00e91-0ea2-4e53-a0c9-2602740e797b",
   "metadata": {},
   "outputs": [
    {
     "data": {
      "text/plain": [
       "19110"
      ]
     },
     "execution_count": 24,
     "metadata": {},
     "output_type": "execute_result"
    }
   ],
   "source": [
    "p_75=np.percentile(wage_data,75)\n",
    "con=wage_data<p_75\n",
    "len(visa_df[con])"
   ]
  },
  {
   "cell_type": "code",
   "execution_count": null,
   "id": "876740cf-a958-4778-881b-75cce1e04c64",
   "metadata": {},
   "outputs": [],
   "source": []
  },
  {
   "cell_type": "markdown",
   "id": "f85618d0-fabc-4369-a12c-83a807f8df9a",
   "metadata": {},
   "source": [
    "**Emperical Rule** # we are creating formula, we are developer \n",
    "\n",
    "- "
   ]
  },
  {
   "cell_type": "code",
   "execution_count": null,
   "id": "0dfc3267-8b4c-4fa0-abfe-7ae793076695",
   "metadata": {},
   "outputs": [],
   "source": []
  },
  {
   "cell_type": "code",
   "execution_count": null,
   "id": "5312a93a-3763-4d8a-98b4-97b64c8211be",
   "metadata": {},
   "outputs": [],
   "source": []
  },
  {
   "cell_type": "code",
   "execution_count": null,
   "id": "7a071b90-22d7-457c-aa75-8d9aca95cc0b",
   "metadata": {},
   "outputs": [],
   "source": []
  },
  {
   "cell_type": "code",
   "execution_count": null,
   "id": "cb4f5115-5776-4ca1-8bcf-2486a1c2b4d2",
   "metadata": {},
   "outputs": [],
   "source": []
  },
  {
   "cell_type": "code",
   "execution_count": null,
   "id": "86e4efd4-5ee4-49d8-906d-1dbe717da0d0",
   "metadata": {},
   "outputs": [],
   "source": []
  }
 ],
 "metadata": {
  "kernelspec": {
   "display_name": "Python 3 (ipykernel)",
   "language": "python",
   "name": "python3"
  },
  "language_info": {
   "codemirror_mode": {
    "name": "ipython",
    "version": 3
   },
   "file_extension": ".py",
   "mimetype": "text/x-python",
   "name": "python",
   "nbconvert_exporter": "python",
   "pygments_lexer": "ipython3",
   "version": "3.13.1"
  }
 },
 "nbformat": 4,
 "nbformat_minor": 5
}

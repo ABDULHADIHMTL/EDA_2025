{
 "cells": [
  {
   "cell_type": "markdown",
   "id": "545abeac-bd68-49e9-999a-2841754be197",
   "metadata": {},
   "source": [
    "**01.06.2025**"
   ]
  },
  {
   "cell_type": "code",
   "execution_count": 3,
   "id": "2fe81b63-71f8-409e-8ce0-1ed3ac63fa6f",
   "metadata": {},
   "outputs": [],
   "source": [
    "import pandas as pd\n",
    "import numpy as np\n",
    "import matplotlib.pyplot as plt\n",
    "import seaborn as sns\n",
    "\n",
    "visa_df=pd.read_csv('Visadataset.csv')\n",
    "cat=visa_df.select_dtypes(include='object').columns\n",
    "num=visa_df.select_dtypes(exclude='object').columns"
   ]
  },
  {
   "cell_type": "code",
   "execution_count": 5,
   "id": "310c5ca0-722b-49cb-bc9a-0e791c990e5a",
   "metadata": {},
   "outputs": [
    {
     "data": {
      "text/plain": [
       "0           592.2029\n",
       "1         83425.6500\n",
       "2        122996.8600\n",
       "3         83434.0300\n",
       "4        149907.3900\n",
       "            ...     \n",
       "25475     77092.5700\n",
       "25476    279174.7900\n",
       "25477    146298.8500\n",
       "25478     86154.7700\n",
       "25479     70876.9100\n",
       "Name: prevailing_wage, Length: 25480, dtype: float64"
      ]
     },
     "execution_count": 5,
     "metadata": {},
     "output_type": "execute_result"
    }
   ],
   "source": [
    "wage_data=visa_df['prevailing_wage']\n",
    "wage_data"
   ]
  },
  {
   "cell_type": "markdown",
   "id": "0a3ec6b7-dfb2-4d44-95b2-073fed9e8bba",
   "metadata": {},
   "source": [
    "**percentile concept**"
   ]
  },
  {
   "cell_type": "code",
   "execution_count": 6,
   "id": "523b09e0-958c-434e-9254-f8a992ea0d0d",
   "metadata": {},
   "outputs": [
    {
     "data": {
      "text/plain": [
       "0           592.2029\n",
       "1         83425.6500\n",
       "2        122996.8600\n",
       "3         83434.0300\n",
       "4        149907.3900\n",
       "            ...     \n",
       "25475     77092.5700\n",
       "25476    279174.7900\n",
       "25477    146298.8500\n",
       "25478     86154.7700\n",
       "25479     70876.9100\n",
       "Name: prevailing_wage, Length: 25480, dtype: float64"
      ]
     },
     "execution_count": 6,
     "metadata": {},
     "output_type": "execute_result"
    }
   ],
   "source": [
    "wage_data=visa_df['prevailing_wage']\n",
    "wage_data"
   ]
  },
  {
   "cell_type": "code",
   "execution_count": 11,
   "id": "7d0b6de5-6f08-4be7-bbe1-ed2f2668abb1",
   "metadata": {},
   "outputs": [
    {
     "name": "stdout",
     "output_type": "stream",
     "text": [
      "34015.479999999996\n",
      "70308.20999999999\n",
      "107735.51250000001\n"
     ]
    }
   ],
   "source": [
    "p_25=np.percentile(wage_data,25)\n",
    "p_50=np.percentile(wage_data,50)\n",
    "p_75=np.percentile(wage_data,75)\n",
    "p_25,p_50,p_75\n",
    "print(p_25)\n",
    "print(p_50)\n",
    "print(p_75)"
   ]
  },
  {
   "cell_type": "code",
   "execution_count": null,
   "id": "f6152ad4-7ab5-4cce-8ee3-2f55c19bc307",
   "metadata": {},
   "outputs": [],
   "source": []
  },
  {
   "cell_type": "markdown",
   "id": "bf6955a3-9afb-4a68-97fb-5bcc18331fb1",
   "metadata": {},
   "source": [
    "**Meaning**"
   ]
  },
  {
   "cell_type": "code",
   "execution_count": null,
   "id": "85a1b6b8-6ebd-4046-b924-5a82fae6ec43",
   "metadata": {},
   "outputs": [],
   "source": [
    "- 25 percentage of application has wage less than 34015.47\n",
    "\n",
    "    - 25*25480/100=6370 application has wage less than 34015.47\n",
    "\n",
    "- 50 percentage of application has wage less than 70308.20\n",
    "\n",
    "    - 50*25480/100=12740 application has wage less than 70308.20\n",
    "\n",
    "- 75 percentage of application has wage less than 107735.51\n",
    "\n",
    "    - 75*25480/100=19110 application has wage less than 107735.51\n",
    "\n"
   ]
  },
  {
   "cell_type": "markdown",
   "id": "1c49ac09-5657-445c-8295-6c6015f2c16b",
   "metadata": {},
   "source": [
    "**idea**"
   ]
  },
  {
   "cell_type": "code",
   "execution_count": 18,
   "id": "74a89865-985b-40e2-bd9d-a5c6de065ef7",
   "metadata": {},
   "outputs": [
    {
     "data": {
      "text/html": [
       "<div>\n",
       "<style scoped>\n",
       "    .dataframe tbody tr th:only-of-type {\n",
       "        vertical-align: middle;\n",
       "    }\n",
       "\n",
       "    .dataframe tbody tr th {\n",
       "        vertical-align: top;\n",
       "    }\n",
       "\n",
       "    .dataframe thead th {\n",
       "        text-align: right;\n",
       "    }\n",
       "</style>\n",
       "<table border=\"1\" class=\"dataframe\">\n",
       "  <thead>\n",
       "    <tr style=\"text-align: right;\">\n",
       "      <th></th>\n",
       "      <th>case_id</th>\n",
       "      <th>continent</th>\n",
       "      <th>education_of_employee</th>\n",
       "      <th>has_job_experience</th>\n",
       "      <th>requires_job_training</th>\n",
       "      <th>no_of_employees</th>\n",
       "      <th>yr_of_estab</th>\n",
       "      <th>region_of_employment</th>\n",
       "      <th>prevailing_wage</th>\n",
       "      <th>unit_of_wage</th>\n",
       "      <th>full_time_position</th>\n",
       "      <th>case_status</th>\n",
       "    </tr>\n",
       "  </thead>\n",
       "  <tbody>\n",
       "    <tr>\n",
       "      <th>0</th>\n",
       "      <td>EZYV01</td>\n",
       "      <td>Asia</td>\n",
       "      <td>High School</td>\n",
       "      <td>N</td>\n",
       "      <td>N</td>\n",
       "      <td>14513</td>\n",
       "      <td>2007</td>\n",
       "      <td>West</td>\n",
       "      <td>592.2029</td>\n",
       "      <td>Hour</td>\n",
       "      <td>Y</td>\n",
       "      <td>Denied</td>\n",
       "    </tr>\n",
       "    <tr>\n",
       "      <th>7</th>\n",
       "      <td>EZYV08</td>\n",
       "      <td>North America</td>\n",
       "      <td>Bachelor's</td>\n",
       "      <td>Y</td>\n",
       "      <td>N</td>\n",
       "      <td>3035</td>\n",
       "      <td>1924</td>\n",
       "      <td>West</td>\n",
       "      <td>418.2298</td>\n",
       "      <td>Hour</td>\n",
       "      <td>Y</td>\n",
       "      <td>Denied</td>\n",
       "    </tr>\n",
       "    <tr>\n",
       "      <th>12</th>\n",
       "      <td>EZYV13</td>\n",
       "      <td>Asia</td>\n",
       "      <td>Bachelor's</td>\n",
       "      <td>Y</td>\n",
       "      <td>N</td>\n",
       "      <td>123876</td>\n",
       "      <td>1963</td>\n",
       "      <td>Northeast</td>\n",
       "      <td>28663.0500</td>\n",
       "      <td>Year</td>\n",
       "      <td>Y</td>\n",
       "      <td>Certified</td>\n",
       "    </tr>\n",
       "    <tr>\n",
       "      <th>16</th>\n",
       "      <td>EZYV17</td>\n",
       "      <td>Europe</td>\n",
       "      <td>Master's</td>\n",
       "      <td>Y</td>\n",
       "      <td>N</td>\n",
       "      <td>76638</td>\n",
       "      <td>1991</td>\n",
       "      <td>Midwest</td>\n",
       "      <td>3706.7900</td>\n",
       "      <td>Year</td>\n",
       "      <td>Y</td>\n",
       "      <td>Certified</td>\n",
       "    </tr>\n",
       "    <tr>\n",
       "      <th>17</th>\n",
       "      <td>EZYV18</td>\n",
       "      <td>Asia</td>\n",
       "      <td>Master's</td>\n",
       "      <td>Y</td>\n",
       "      <td>N</td>\n",
       "      <td>2747</td>\n",
       "      <td>2001</td>\n",
       "      <td>West</td>\n",
       "      <td>16132.6100</td>\n",
       "      <td>Year</td>\n",
       "      <td>Y</td>\n",
       "      <td>Certified</td>\n",
       "    </tr>\n",
       "    <tr>\n",
       "      <th>...</th>\n",
       "      <td>...</td>\n",
       "      <td>...</td>\n",
       "      <td>...</td>\n",
       "      <td>...</td>\n",
       "      <td>...</td>\n",
       "      <td>...</td>\n",
       "      <td>...</td>\n",
       "      <td>...</td>\n",
       "      <td>...</td>\n",
       "      <td>...</td>\n",
       "      <td>...</td>\n",
       "      <td>...</td>\n",
       "    </tr>\n",
       "    <tr>\n",
       "      <th>25461</th>\n",
       "      <td>EZYV25462</td>\n",
       "      <td>Asia</td>\n",
       "      <td>Master's</td>\n",
       "      <td>Y</td>\n",
       "      <td>N</td>\n",
       "      <td>2861</td>\n",
       "      <td>2004</td>\n",
       "      <td>West</td>\n",
       "      <td>54.9196</td>\n",
       "      <td>Hour</td>\n",
       "      <td>Y</td>\n",
       "      <td>Denied</td>\n",
       "    </tr>\n",
       "    <tr>\n",
       "      <th>25465</th>\n",
       "      <td>EZYV25466</td>\n",
       "      <td>North America</td>\n",
       "      <td>High School</td>\n",
       "      <td>N</td>\n",
       "      <td>N</td>\n",
       "      <td>2577</td>\n",
       "      <td>1995</td>\n",
       "      <td>South</td>\n",
       "      <td>481.2238</td>\n",
       "      <td>Hour</td>\n",
       "      <td>Y</td>\n",
       "      <td>Certified</td>\n",
       "    </tr>\n",
       "    <tr>\n",
       "      <th>25466</th>\n",
       "      <td>EZYV25467</td>\n",
       "      <td>Europe</td>\n",
       "      <td>Bachelor's</td>\n",
       "      <td>Y</td>\n",
       "      <td>N</td>\n",
       "      <td>1938</td>\n",
       "      <td>2005</td>\n",
       "      <td>West</td>\n",
       "      <td>6973.4000</td>\n",
       "      <td>Year</td>\n",
       "      <td>Y</td>\n",
       "      <td>Denied</td>\n",
       "    </tr>\n",
       "    <tr>\n",
       "      <th>25470</th>\n",
       "      <td>EZYV25471</td>\n",
       "      <td>North America</td>\n",
       "      <td>Master's</td>\n",
       "      <td>Y</td>\n",
       "      <td>N</td>\n",
       "      <td>2272</td>\n",
       "      <td>1970</td>\n",
       "      <td>Northeast</td>\n",
       "      <td>516.4101</td>\n",
       "      <td>Hour</td>\n",
       "      <td>Y</td>\n",
       "      <td>Certified</td>\n",
       "    </tr>\n",
       "    <tr>\n",
       "      <th>25473</th>\n",
       "      <td>EZYV25474</td>\n",
       "      <td>Asia</td>\n",
       "      <td>Bachelor's</td>\n",
       "      <td>Y</td>\n",
       "      <td>N</td>\n",
       "      <td>2421</td>\n",
       "      <td>2007</td>\n",
       "      <td>Northeast</td>\n",
       "      <td>22845.5600</td>\n",
       "      <td>Year</td>\n",
       "      <td>Y</td>\n",
       "      <td>Certified</td>\n",
       "    </tr>\n",
       "  </tbody>\n",
       "</table>\n",
       "<p>6370 rows × 12 columns</p>\n",
       "</div>"
      ],
      "text/plain": [
       "         case_id      continent education_of_employee has_job_experience  \\\n",
       "0         EZYV01           Asia           High School                  N   \n",
       "7         EZYV08  North America            Bachelor's                  Y   \n",
       "12        EZYV13           Asia            Bachelor's                  Y   \n",
       "16        EZYV17         Europe              Master's                  Y   \n",
       "17        EZYV18           Asia              Master's                  Y   \n",
       "...          ...            ...                   ...                ...   \n",
       "25461  EZYV25462           Asia              Master's                  Y   \n",
       "25465  EZYV25466  North America           High School                  N   \n",
       "25466  EZYV25467         Europe            Bachelor's                  Y   \n",
       "25470  EZYV25471  North America              Master's                  Y   \n",
       "25473  EZYV25474           Asia            Bachelor's                  Y   \n",
       "\n",
       "      requires_job_training  no_of_employees  yr_of_estab  \\\n",
       "0                         N            14513         2007   \n",
       "7                         N             3035         1924   \n",
       "12                        N           123876         1963   \n",
       "16                        N            76638         1991   \n",
       "17                        N             2747         2001   \n",
       "...                     ...              ...          ...   \n",
       "25461                     N             2861         2004   \n",
       "25465                     N             2577         1995   \n",
       "25466                     N             1938         2005   \n",
       "25470                     N             2272         1970   \n",
       "25473                     N             2421         2007   \n",
       "\n",
       "      region_of_employment  prevailing_wage unit_of_wage full_time_position  \\\n",
       "0                     West         592.2029         Hour                  Y   \n",
       "7                     West         418.2298         Hour                  Y   \n",
       "12               Northeast       28663.0500         Year                  Y   \n",
       "16                 Midwest        3706.7900         Year                  Y   \n",
       "17                    West       16132.6100         Year                  Y   \n",
       "...                    ...              ...          ...                ...   \n",
       "25461                 West          54.9196         Hour                  Y   \n",
       "25465                South         481.2238         Hour                  Y   \n",
       "25466                 West        6973.4000         Year                  Y   \n",
       "25470            Northeast         516.4101         Hour                  Y   \n",
       "25473            Northeast       22845.5600         Year                  Y   \n",
       "\n",
       "      case_status  \n",
       "0          Denied  \n",
       "7          Denied  \n",
       "12      Certified  \n",
       "16      Certified  \n",
       "17      Certified  \n",
       "...           ...  \n",
       "25461      Denied  \n",
       "25465   Certified  \n",
       "25466      Denied  \n",
       "25470   Certified  \n",
       "25473   Certified  \n",
       "\n",
       "[6370 rows x 12 columns]"
      ]
     },
     "execution_count": 18,
     "metadata": {},
     "output_type": "execute_result"
    }
   ],
   "source": [
    "p_25=np.percentile(wage_data,25)\n",
    "con=wage_data<p_25\n",
    "visa_df[con]"
   ]
  },
  {
   "cell_type": "code",
   "execution_count": 19,
   "id": "1852c245-60e8-497f-b00c-260693348193",
   "metadata": {},
   "outputs": [
    {
     "data": {
      "text/plain": [
       "6370"
      ]
     },
     "execution_count": 19,
     "metadata": {},
     "output_type": "execute_result"
    }
   ],
   "source": [
    "p_25=np.percentile(wage_data,25)\n",
    "con=wage_data<p_25\n",
    "len(visa_df[con])"
   ]
  },
  {
   "cell_type": "code",
   "execution_count": 21,
   "id": "86ae1162-a59a-424a-bebb-a4eb1320f284",
   "metadata": {},
   "outputs": [
    {
     "data": {
      "text/plain": [
       "12740"
      ]
     },
     "execution_count": 21,
     "metadata": {},
     "output_type": "execute_result"
    }
   ],
   "source": [
    "p_25=np.percentile(wage_data,25)\n",
    "con=wage_data<p_50\n",
    "len(visa_df[con])"
   ]
  },
  {
   "cell_type": "code",
   "execution_count": 15,
   "id": "09d02aff-620a-46c0-b435-a07e9e27efa5",
   "metadata": {},
   "outputs": [
    {
     "data": {
      "text/plain": [
       "12740"
      ]
     },
     "execution_count": 15,
     "metadata": {},
     "output_type": "execute_result"
    }
   ],
   "source": [
    "p_50=np.percentile(wage_data,50)\n",
    "con=wage_data<p_50\n",
    "len(visa_df[con])"
   ]
  },
  {
   "cell_type": "code",
   "execution_count": 17,
   "id": "66b0a4cc-1017-4eea-9031-9de8993eae10",
   "metadata": {},
   "outputs": [
    {
     "data": {
      "text/plain": [
       "19110"
      ]
     },
     "execution_count": 17,
     "metadata": {},
     "output_type": "execute_result"
    }
   ],
   "source": [
    "p_75=np.percentile(wage_data,75)\n",
    "con=wage_data<p_75\n",
    "len(wage_data[con])"
   ]
  },
  {
   "cell_type": "code",
   "execution_count": null,
   "id": "2b21a7c0-8fa6-4ba2-9b64-65da26c200d2",
   "metadata": {},
   "outputs": [],
   "source": []
  },
  {
   "cell_type": "code",
   "execution_count": null,
   "id": "2ff77d13-8f41-4ec5-aef8-1f6c2f9fee5c",
   "metadata": {},
   "outputs": [],
   "source": [
    "**Emperical rule**\n",
    "\n",
    "u-1*std to u+1*std =68%\n",
    "or\n",
    "    (μ ± σ) = 68% of data falls within 1 standard deviation of the mean (μ ± σ)\n",
    "\n",
    "\n",
    "u-2*std to u+2*std =95%\n",
    "or\n",
    "    (μ ± 2σ)= 95% falls within 2 standard deviations (μ ± 2σ)\n",
    "\n",
    "\n",
    "u-3*std to u+3*std =99.7%\n",
    "or\n",
    "    (μ ± 3σ)= 99.7% falls within 3 standard deviations (μ ± 3σ)"
   ]
  },
  {
   "cell_type": "code",
   "execution_count": null,
   "id": "647620db-9979-4ac2-9ca6-f2da3fedf0ce",
   "metadata": {},
   "outputs": [],
   "source": []
  },
  {
   "cell_type": "code",
   "execution_count": null,
   "id": "a35332f4-e112-4201-9fb2-1ab93304af8e",
   "metadata": {},
   "outputs": [],
   "source": [
    "(μ ± σ) = 68% of data falls within 1 standard deviation of the mean (μ ± σ)\n",
    "(μ -1* σ) to (μ +1* σ)  # for normal distribution (bell shape graph)\n",
    "u-1*std to u+1*std =68%\n",
    "step-1 : wage_mean\n",
    "step-2 : wage_std\n",
    "step-3 : lb=wage_mean-1*wage_std\n",
    "step-4 : ub=wage_mean+1*wage_std\n",
    "step-5 : con1=wage_data>lb\n",
    "step-6 : con2=wage_data<ub\n",
    "step-7 : con=con1 & con2\n",
    "step-8 : len(visa_df[con])==68*25480/100 = 17326,40\n"
   ]
  },
  {
   "cell_type": "code",
   "execution_count": null,
   "id": "b2aa2ab6-4458-44bd-864c-224584136511",
   "metadata": {},
   "outputs": [],
   "source": []
  },
  {
   "cell_type": "code",
   "execution_count": 34,
   "id": "1f16aae5-4fd0-4fbd-8393-5b7fd2b00e1a",
   "metadata": {},
   "outputs": [
    {
     "data": {
      "text/plain": [
       "False"
      ]
     },
     "execution_count": 34,
     "metadata": {},
     "output_type": "execute_result"
    }
   ],
   "source": [
    "wage_mean=wage_data.mean()\n",
    "wage_std=wage_data.std()\n",
    "lb=wage_mean-1*wage_std\n",
    "ub=wage_mean+1*wage_std\n",
    "con1=wage_data>lb\n",
    "con2=wage_data<ub\n",
    "con=con1 & con2\n",
    "len(visa_df[con])==68*25480/100\n"
   ]
  },
  {
   "cell_type": "code",
   "execution_count": null,
   "id": "18500d18-8530-44c1-9977-f3a66ecbb2a6",
   "metadata": {},
   "outputs": [],
   "source": []
  },
  {
   "cell_type": "code",
   "execution_count": 35,
   "id": "23901310-7b1c-41ac-ae02-e98bd1f85d6e",
   "metadata": {},
   "outputs": [
    {
     "data": {
      "text/plain": [
       "False"
      ]
     },
     "execution_count": 35,
     "metadata": {},
     "output_type": "execute_result"
    }
   ],
   "source": [
    "wage_mean=wage_data.mean()\n",
    "wage_std=wage_data.std()\n",
    "lb=wage_mean-2*wage_std\n",
    "ub=wage_mean+2*wage_std\n",
    "con1=wage_data>lb\n",
    "con2=wage_data<ub\n",
    "con=con1 & con2\n",
    "len(visa_df[con])==95*25480/100"
   ]
  },
  {
   "cell_type": "code",
   "execution_count": 37,
   "id": "3a60e0cd-d22a-4031-a379-50dafaed96a6",
   "metadata": {},
   "outputs": [
    {
     "data": {
      "text/plain": [
       "False"
      ]
     },
     "execution_count": 37,
     "metadata": {},
     "output_type": "execute_result"
    }
   ],
   "source": [
    "wage_mean=wage_data.mean()\n",
    "wage_std=wage_data.std()\n",
    "lb=wage_mean-3*wage_std\n",
    "ub=wage_mean+3*wage_std\n",
    "con1=wage_data>lb\n",
    "con2=wage_data<ub\n",
    "con=con1 & con2\n",
    "len(visa_df[con])==99.7*25480/100"
   ]
  },
  {
   "cell_type": "markdown",
   "id": "94f3ee81-bd74-4728-85e7-8d6e8803bde4",
   "metadata": {},
   "source": [
    "**conclusion: Data does not following Normal distribution**"
   ]
  },
  {
   "cell_type": "markdown",
   "id": "45276d60-ba53-4d78-b413-229c9f6ed16e",
   "metadata": {},
   "source": [
    "**Histogram**"
   ]
  },
  {
   "cell_type": "code",
   "execution_count": 39,
   "id": "146ada93-b658-4334-a77d-ef24d1016f82",
   "metadata": {},
   "outputs": [
    {
     "data": {
      "text/plain": [
       "(array([6038., 5504., 5681., 4551., 2334.,  624.,  373.,  240.,  114.,\n",
       "          21.]),\n",
       " array([2.13670000e+00, 3.19229500e+04, 6.38437634e+04, 9.57645767e+04,\n",
       "        1.27685390e+05, 1.59606203e+05, 1.91527017e+05, 2.23447830e+05,\n",
       "        2.55368643e+05, 2.87289457e+05, 3.19210270e+05]),\n",
       " <BarContainer object of 10 artists>)"
      ]
     },
     "execution_count": 39,
     "metadata": {},
     "output_type": "execute_result"
    },
    {
     "data": {
      "image/png": "[encoded data removed]",
      "text/plain": [
       "<Figure size 640x480 with 1 Axes>"
      ]
     },
     "metadata": {},
     "output_type": "display_data"
    }
   ],
   "source": [
    "plt.hist(wage_data)"
   ]
  },
  {
   "cell_type": "code",
   "execution_count": 41,
   "id": "ea2df44c-5f2c-4cb3-a96c-a1225827a430",
   "metadata": {},
   "outputs": [
    {
     "data": {
      "text/plain": [
       "6038"
      ]
     },
     "execution_count": 41,
     "metadata": {},
     "output_type": "execute_result"
    }
   ],
   "source": [
    "lb=wage_data>=2.13670000e+00\n",
    "ub=wage_data<3.19229500e+04\n",
    "con=lb & ub\n",
    "len(visa_df[con])"
   ]
  },
  {
   "cell_type": "code",
   "execution_count": 42,
   "id": "23a058f2-7f0c-4171-bee5-af98e5f96118",
   "metadata": {},
   "outputs": [
    {
     "data": {
      "image/png": "[encoded data removed]",
      "text/plain": [
       "<Figure size 640x480 with 1 Axes>"
      ]
     },
     "metadata": {},
     "output_type": "display_data"
    }
   ],
   "source": [
    "plt.hist(wage_data)\n",
    "plt.show()"
   ]
  },
  {
   "cell_type": "code",
   "execution_count": null,
   "id": "362c53c9-e882-4dde-a961-914baee74519",
   "metadata": {},
   "outputs": [],
   "source": []
  },
  {
   "cell_type": "code",
   "execution_count": 43,
   "id": "f180c4ae-7065-406d-8ca2-3a77b75ef6aa",
   "metadata": {},
   "outputs": [
    {
     "data": {
      "image/png": "[encoded data removed]",
      "text/plain": [
       "<Figure size 640x480 with 1 Axes>"
      ]
     },
     "metadata": {},
     "output_type": "display_data"
    }
   ],
   "source": [
    "plt.hist(wage_data,bins=40)\n",
    "plt.show()\n"
   ]
  },
  {
   "cell_type": "markdown",
   "id": "dae33fa8-557b-495e-8d1c-55b12c68673f",
   "metadata": {},
   "source": [
    "**Boxplot**"
   ]
  },
  {
   "cell_type": "code",
   "execution_count": 45,
   "id": "7a69de05-b2bd-4f32-9aeb-6f5364838072",
   "metadata": {},
   "outputs": [
    {
     "data": {
      "text/plain": [
       "{'whiskers': [<matplotlib.lines.Line2D at 0x29da867e350>,\n",
       "  <matplotlib.lines.Line2D at 0x29da867e490>],\n",
       " 'caps': [<matplotlib.lines.Line2D at 0x29da867e5d0>,\n",
       "  <matplotlib.lines.Line2D at 0x29da867e710>],\n",
       " 'boxes': [<matplotlib.lines.Line2D at 0x29da867e210>],\n",
       " 'medians': [<matplotlib.lines.Line2D at 0x29da867e850>],\n",
       " 'fliers': [<matplotlib.lines.Line2D at 0x29da867e990>],\n",
       " 'means': []}"
      ]
     },
     "execution_count": 45,
     "metadata": {},
     "output_type": "execute_result"
    },
    {
     "data": {
      "image/png": "[encoded data removed]",
      "text/plain": [
       "<Figure size 640x480 with 1 Axes>"
      ]
     },
     "metadata": {},
     "output_type": "display_data"
    }
   ],
   "source": [
    "plt.boxplot(wage_data, vert=False)"
   ]
  },
  {
   "cell_type": "code",
   "execution_count": null,
   "id": "8288ff68-a477-4811-ba58-b0442e7a347d",
   "metadata": {},
   "outputs": [],
   "source": [
    "# how many outliers are there in this \n",
    "# lb=q1-1.5*IQR   lb= lower Bound\n",
    "# ub=q3+1.5*IQR   ub= upper Bound"
   ]
  },
  {
   "cell_type": "code",
   "execution_count": null,
   "id": "9f6de150-6c9c-4d36-9e25-26bdadc8dfa6",
   "metadata": {},
   "outputs": [],
   "source": [
    "          Q1-1.5IQR   Q1   median  Q3   Q3+1.5IQR\n",
    "                       |-----:-----|\n",
    "       o      |--------|     :     |--------|    o  o\n",
    "                       |-----:-----|\n",
    "     flier             <----------->            fliers\n",
    "                            IQR"
   ]
  },
  {
   "cell_type": "code",
   "execution_count": null,
   "id": "9dee4647-169c-4b83-a63e-6d2a6aa4fe2f",
   "metadata": {},
   "outputs": [],
   "source": []
  },
  {
   "cell_type": "code",
   "execution_count": null,
   "id": "439c530a-a96c-4cca-bb52-229826b4aa50",
   "metadata": {},
   "outputs": [],
   "source": [
    "step-1: q1,q2,q3\n",
    "step-2: IQR\n",
    "step-3: lb=q1-1.5*IQR\n",
    "step-4: ub=q3+1.5*IQR\n",
    "step-5: con1=wage_data<lb\n",
    "step-6: con2=wage_data>ub\n",
    "step-7: con=con1 | con2"
   ]
  },
  {
   "cell_type": "markdown",
   "id": "ac2aae8b-e728-41d2-ac4c-0f31b2fa6225",
   "metadata": {},
   "source": [
    "**submit on monday 02.06.2025**"
   ]
  },
  {
   "cell_type": "code",
   "execution_count": 47,
   "id": "c4470050-4791-4d82-9fb1-a98203f9c005",
   "metadata": {},
   "outputs": [],
   "source": [
    "import pandas as pd\n",
    "import numpy as np\n",
    "import matplotlib.pyplot as plt\n",
    "import seaborn as sns\n",
    "\n",
    "visa_df=pd.read_csv('Visadataset.csv')\n",
    "\n",
    "cat=visa_df.select_dtypes(include='object').columns\n",
    "num=visa_df.select_dtypes(exclude='object').columns"
   ]
  },
  {
   "cell_type": "code",
   "execution_count": 50,
   "id": "96648e3b-cedf-47cf-8fc4-add4421a51bd",
   "metadata": {},
   "outputs": [],
   "source": [
    "wage_data=visa_df['prevailing_wage']\n",
    "step-1: q1,q2,q3\n",
    "step-2: IQR\n",
    "step-3: lb=q1-1.5*IQR\n",
    "step-4: ub=q3+1.5*IQR\n",
    "step-5: con1=wage_data<lb\n",
    "step-6: con2=wage_data>ub\n",
    "step-7: con=con1 | con2"
   ]
  },
  {
   "cell_type": "code",
   "execution_count": 61,
   "id": "9edae5d3-7a63-473a-8019-39472e6ea0eb",
   "metadata": {},
   "outputs": [
    {
     "name": "stdout",
     "output_type": "stream",
     "text": [
      "Q1: 34015.479999999996 Q2:  70308.20999999999 Q3: 107735.51250000001\n",
      "IQR 73720.03250000002\n",
      "lower bound: -76564.56875000002\n",
      "upper bound: 181455.54500000004\n",
      "Number of outliers: 881\n",
      "     case_id      continent education_of_employee has_job_experience  \\\n",
      "14    EZYV15           Asia              Master's                  Y   \n",
      "29    EZYV30           Asia            Bachelor's                  Y   \n",
      "34    EZYV35           Asia              Master's                  N   \n",
      "79    EZYV80           Asia           High School                  N   \n",
      "123  EZYV124  North America              Master's                  N   \n",
      "\n",
      "    requires_job_training  no_of_employees  yr_of_estab region_of_employment  \\\n",
      "14                      Y            15756         2006                South   \n",
      "29                      N              758         2009            Northeast   \n",
      "34                      N             1809         2010                South   \n",
      "79                      Y             1062         1998                 West   \n",
      "123                     N             1099         2005                 West   \n",
      "\n",
      "     prevailing_wage unit_of_wage full_time_position case_status  \n",
      "14         220081.73         Year                  Y   Certified  \n",
      "29         189190.48         Year                  Y   Certified  \n",
      "34         225569.73         Year                  N   Certified  \n",
      "79         194176.83         Year                  Y      Denied  \n",
      "123        204832.52         Year                  N      Denied  \n"
     ]
    },
    {
     "ename": "NameError",
     "evalue": "name 'non_outlier_condition' is not defined",
     "output_type": "error",
     "traceback": [
      "\u001b[1;31m---------------------------------------------------------------------------\u001b[0m",
      "\u001b[1;31mNameError\u001b[0m                                 Traceback (most recent call last)",
      "Cell \u001b[1;32mIn[61], line 28\u001b[0m\n\u001b[0;32m     25\u001b[0m \u001b[38;5;28mprint\u001b[39m(outliers_df\u001b[38;5;241m.\u001b[39mhead())  \u001b[38;5;66;03m# show first 5 rows as preview\u001b[39;00m\n\u001b[0;32m     27\u001b[0m \u001b[38;5;66;03m# Filter full DataFrame — not just the Series\u001b[39;00m\n\u001b[1;32m---> 28\u001b[0m non_outliers_df \u001b[38;5;241m=\u001b[39m visa_df[\u001b[43mnon_outlier_condition\u001b[49m]\n\u001b[0;32m     29\u001b[0m \u001b[38;5;28mprint\u001b[39m(\u001b[38;5;124m\"\u001b[39m\u001b[38;5;124m✅ Non-outliers saved to \u001b[39m\u001b[38;5;124m'\u001b[39m\u001b[38;5;124mnon_outliers_prevailing_wage.csv\u001b[39m\u001b[38;5;124m'\u001b[39m\u001b[38;5;124m\"\u001b[39m)\n",
      "\u001b[1;31mNameError\u001b[0m: name 'non_outlier_condition' is not defined"
     ]
    }
   ],
   "source": [
    "q1=visa_df['prevailing_wage'].quantile(0.25)\n",
    "q2=visa_df['prevailing_wage'].quantile(0.50)\n",
    "q3=visa_df['prevailing_wage'].quantile(0.75)\n",
    "print(\"Q1:\", q1, \"Q2: \", q2, \"Q3:\", q3)\n",
    "IQR=q3-q1\n",
    "print(\"IQR\", IQR)\n",
    "lb=q1-1.5*IQR\n",
    "print(\"lower bound:\", lb)\n",
    "ub=q3+1*IQR\n",
    "print(\"upper bound:\", ub)\n",
    "\n",
    "con1=wage_data<lb\n",
    "\n",
    "con2=wage_data>lb\n",
    "\n",
    "outlier_condition = (wage_data < lb) | (wage_data > ub)\n",
    "\n",
    "#step-7: combine both conditions to detect outlier\n",
    "con=(wage_data<lb) | (wage_data>ub)\n",
    "outliers=wage_data[con]\n",
    "# Filter full DataFrame — not just the Series\n",
    "outliers_df = visa_df[outlier_condition]\n",
    "print(\"Number of outliers:\",len(outliers))\n",
    "\n",
    "print(outliers_df.head())  # show first 5 rows as preview\n",
    "\n",
    "# Filter full DataFrame — not just the Series\n",
    "non_outliers_df = visa_df[non_outlier_condition]\n",
    "print(\"✅ Non-outliers saved to 'non_outliers_prevailing_wage.csv'\")"
   ]
  },
  {
   "cell_type": "code",
   "execution_count": null,
   "id": "26e59a94-3678-45bc-9f47-3621f4f9123f",
   "metadata": {},
   "outputs": [],
   "source": []
  },
  {
   "cell_type": "code",
   "execution_count": null,
   "id": "7236c5d4-c301-49d1-87f4-01c1e28abdce",
   "metadata": {},
   "outputs": [],
   "source": []
  },
  {
   "cell_type": "code",
   "execution_count": null,
   "id": "cc1edc05-a5b0-40ae-a224-3b7ede462ee2",
   "metadata": {},
   "outputs": [],
   "source": []
  },
  {
   "cell_type": "code",
   "execution_count": null,
   "id": "1d45e3b3-feec-4efc-bc7a-c42367baf17a",
   "metadata": {},
   "outputs": [],
   "source": []
  }
 ],
 "metadata": {
  "kernelspec": {
   "display_name": "Python 3 (ipykernel)",
   "language": "python",
   "name": "python3"
  },
  "language_info": {
   "codemirror_mode": {
    "name": "ipython",
    "version": 3
   },
   "file_extension": ".py",
   "mimetype": "text/x-python",
   "name": "python",
   "nbconvert_exporter": "python",
   "pygments_lexer": "ipython3",
   "version": "3.13.1"
  }
 },
 "nbformat": 4,
 "nbformat_minor": 5
}

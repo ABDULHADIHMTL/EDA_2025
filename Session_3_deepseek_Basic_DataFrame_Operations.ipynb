{
 "cells": [
  {
   "cell_type": "code",
   "execution_count": 1,
   "id": "5cafe84f-b15f-4482-8b96-30138e340cd7",
   "metadata": {},
   "outputs": [],
   "source": [
    "import pandas as pd\n",
    "import numpy as np\n",
    "import matplotlib.pyplot as plt\n",
    "import seaborn as sns"
   ]
  },
  {
   "cell_type": "code",
   "execution_count": 3,
   "id": "77978bdb-3af8-495c-a6c0-0d2a4e5bec20",
   "metadata": {},
   "outputs": [
    {
     "name": "stdout",
     "output_type": "stream",
     "text": [
      "original DataFrame:\n",
      "    VisaType Country  Approved  ProcessingDays\n",
      "1         B1   India      True              15\n",
      "2         B2   China      True              20\n",
      "3         F1   India     False              30\n",
      "4        H1B   china      True              10\n",
      "5         J1  Brazil     False              45\n",
      "100       L1   India      True              25\n",
      "200       B1   China     False              35\n",
      "300       B2  Brazil      True              12\n"
     ]
    }
   ],
   "source": [
    "data = {\n",
    "    'VisaType': ['B1', 'B2', 'F1', 'H1B', 'J1', 'L1', 'B1', 'B2'],\n",
    "    'Country': ['India', 'China', 'India', 'china', 'Brazil', 'India', 'China', 'Brazil'],\n",
    "    'Approved': [True, True, False, True, False, True, False, True],\n",
    "    'ProcessingDays': [15, 20, 30, 10, 45, 25, 35, 12]\n",
    "}\n",
    "\n",
    "visadataset_df = pd.DataFrame(data)\n",
    "visadataset_df.index = [1,2,3,4,5,100,200,300]\n",
    "print(\"original DataFrame:\")\n",
    "print(visadataset_df)"
   ]
  },
  {
   "cell_type": "markdown",
   "id": "67cb7c73-90f7-4d1f-988b-10e89db1db9d",
   "metadata": {},
   "source": [
    "**Case 1: visadataset_df.loc[1:5, ['VisaType', 'Country']]**"
   ]
  },
  {
   "cell_type": "code",
   "execution_count": 4,
   "id": "ef79ab81-4238-448f-b0d0-9dd81ada1b98",
   "metadata": {},
   "outputs": [
    {
     "name": "stdout",
     "output_type": "stream",
     "text": [
      "\n",
      "case 1 - loc:\n",
      "  VisaType Country\n",
      "1       B1   India\n",
      "2       B2   China\n",
      "3       F1   India\n",
      "4      H1B   china\n",
      "5       J1  Brazil\n",
      "\n",
      "case 1 - iloc:\n",
      "  VisaType Country\n",
      "1       B1   India\n",
      "2       B2   China\n",
      "3       F1   India\n",
      "4      H1B   china\n",
      "5       J1  Brazil\n",
      "\n",
      "case 1 - take:\n",
      "  VisaType Country\n",
      "1       B1   India\n",
      "2       B2   China\n",
      "3       F1   India\n",
      "4      H1B   china\n",
      "5       J1  Brazil\n"
     ]
    }
   ],
   "source": [
    "cols = ['VisaType', 'Country']\n",
    "print(\"\\ncase 1 - loc:\")\n",
    "print(visadataset_df.loc[1:5, cols])\n",
    "print(\"\\ncase 1 - iloc:\")\n",
    "print(visadataset_df.iloc[0:5, [0,1]]) # first five rows, column 0 and 1 \n",
    "print(\"\\ncase 1 - take:\")\n",
    "print(visadataset_df.take(range(5),axis=0).take([0, 1], axis=1))"
   ]
  },
  {
   "cell_type": "code",
   "execution_count": null,
   "id": "74042a34-6392-49e4-b821-1cf3ef70ab5a",
   "metadata": {},
   "outputs": [],
   "source": []
  },
  {
   "cell_type": "code",
   "execution_count": null,
   "id": "565b6787-2788-4e23-8fa9-92d2244cabbe",
   "metadata": {},
   "outputs": [],
   "source": []
  },
  {
   "cell_type": "code",
   "execution_count": null,
   "id": "816af750-62e2-4ffa-a75d-a9b7bd17875f",
   "metadata": {},
   "outputs": [],
   "source": []
  },
  {
   "cell_type": "code",
   "execution_count": null,
   "id": "d1fafff1-b00a-4c83-8d12-76562f924c3c",
   "metadata": {},
   "outputs": [],
   "source": []
  }
 ],
 "metadata": {
  "kernelspec": {
   "display_name": "Python 3 (ipykernel)",
   "language": "python",
   "name": "python3"
  },
  "language_info": {
   "codemirror_mode": {
    "name": "ipython",
    "version": 3
   },
   "file_extension": ".py",
   "mimetype": "text/x-python",
   "name": "python",
   "nbconvert_exporter": "python",
   "pygments_lexer": "ipython3",
   "version": "3.13.1"
  }
 },
 "nbformat": 4,
 "nbformat_minor": 5
}
